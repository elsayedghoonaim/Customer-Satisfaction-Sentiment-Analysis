{
 "cells": [
  {
   "cell_type": "markdown",
   "id": "6d10720e",
   "metadata": {},
   "source": [
    "# Welcome to The Notebook\n",
    "---\n",
    "\n",
    "In this guided-project we are going to cover the following tasks: \n",
    "\n",
    "- Task 1: Loading the customer reviews dataset\n",
    "- Task 2: Clean and preprocess the reviews\n",
    "- Task 3: Tokenize the reviews and removing the stop words\n",
    "- Task 4: Exploring the tokens and product categories\n",
    "- Task 5: Extracting the adjectives in the reviews\n",
    "- Task 6: Finding the sentiment of each review \n"
   ]
  },
  {
   "cell_type": "markdown",
   "id": "33f1fd0d",
   "metadata": {},
   "source": [
    "Importing the modules"
   ]
  },
  {
   "cell_type": "code",
   "execution_count": 24,
   "id": "6c99de38",
   "metadata": {},
   "outputs": [
    {
     "name": "stdout",
     "output_type": "stream",
     "text": [
      "Modules are imported! :)\n"
     ]
    },
    {
     "name": "stderr",
     "output_type": "stream",
     "text": [
      "[nltk_data] Downloading package stopwords to /home/jovyan/nltk_data...\n",
      "[nltk_data]   Package stopwords is already up-to-date!\n",
      "[nltk_data] Downloading package punkt to /home/jovyan/nltk_data...\n",
      "[nltk_data]   Package punkt is already up-to-date!\n",
      "[nltk_data] Downloading package averaged_perceptron_tagger to\n",
      "[nltk_data]     /home/jovyan/nltk_data...\n",
      "[nltk_data]   Package averaged_perceptron_tagger is already up-to-\n",
      "[nltk_data]       date!\n",
      "[nltk_data] Downloading package vader_lexicon to\n",
      "[nltk_data]     /home/jovyan/nltk_data...\n",
      "[nltk_data]   Package vader_lexicon is already up-to-date!\n"
     ]
    }
   ],
   "source": [
    "import pandas as pd \n",
    "import string \n",
    "\n",
    "# Importing Natural Language Processing toolkit \n",
    "import nltk\n",
    "\n",
    "# Downloading the NLTK english stop words\n",
    "nltk.download('stopwords')\n",
    "\n",
    "# Downloading the NLTK sentence tokenizer\n",
    "nltk.download('punkt')\n",
    "\n",
    "# Downloading the NLTK POS Tagger\n",
    "nltk.download('averaged_perceptron_tagger')\n",
    "\n",
    "# Downloading the NLTK Vader Lexicon\n",
    "nltk.download('vader_lexicon')\n",
    "\n",
    "# Importing the NLTK english stop words \n",
    "from nltk.corpus import stopwords\n",
    "\n",
    "# Importing frequency distribution from NLTK\n",
    "from nltk.probability import FreqDist\n",
    "\n",
    "# Importing VADER dictionary. It is a rule-based sentiment analyzer\n",
    "from nltk.sentiment import SentimentIntensityAnalyzer\n",
    "\n",
    "# Importing data visualization modules \n",
    "from wordcloud import WordCloud\n",
    "import plotly.express as px \n",
    "import matplotlib.pyplot as plt\n",
    "\n",
    "print(\"Modules are imported! :)\")"
   ]
  },
  {
   "cell_type": "markdown",
   "id": "8421125b",
   "metadata": {},
   "source": [
    "## Task 1\n",
    "\n",
    "### Loading the customer reviews dataset\n",
    "---"
   ]
  },
  {
   "cell_type": "code",
   "execution_count": 4,
   "id": "ae05d325",
   "metadata": {},
   "outputs": [
    {
     "data": {
      "text/html": [
       "<div>\n",
       "<style scoped>\n",
       "    .dataframe tbody tr th:only-of-type {\n",
       "        vertical-align: middle;\n",
       "    }\n",
       "\n",
       "    .dataframe tbody tr th {\n",
       "        vertical-align: top;\n",
       "    }\n",
       "\n",
       "    .dataframe thead th {\n",
       "        text-align: right;\n",
       "    }\n",
       "</style>\n",
       "<table border=\"1\" class=\"dataframe\">\n",
       "  <thead>\n",
       "    <tr style=\"text-align: right;\">\n",
       "      <th></th>\n",
       "      <th>product_review</th>\n",
       "      <th>product_category</th>\n",
       "    </tr>\n",
       "  </thead>\n",
       "  <tbody>\n",
       "    <tr>\n",
       "      <th>0</th>\n",
       "      <td>I love, love, love this jumpsuit. it's fun, fl...</td>\n",
       "      <td>Bottoms</td>\n",
       "    </tr>\n",
       "    <tr>\n",
       "      <th>1</th>\n",
       "      <td>Beautifully made pants and on trend with the f...</td>\n",
       "      <td>Bottoms</td>\n",
       "    </tr>\n",
       "    <tr>\n",
       "      <th>2</th>\n",
       "      <td>I never would have given these pants a second ...</td>\n",
       "      <td>Bottoms</td>\n",
       "    </tr>\n",
       "    <tr>\n",
       "      <th>3</th>\n",
       "      <td>These pants are even better in person. the onl...</td>\n",
       "      <td>Bottoms</td>\n",
       "    </tr>\n",
       "    <tr>\n",
       "      <th>4</th>\n",
       "      <td>The silhouette and length of this skirt and le...</td>\n",
       "      <td>Bottoms</td>\n",
       "    </tr>\n",
       "  </tbody>\n",
       "</table>\n",
       "</div>"
      ],
      "text/plain": [
       "                                      product_review product_category\n",
       "0  I love, love, love this jumpsuit. it's fun, fl...          Bottoms\n",
       "1  Beautifully made pants and on trend with the f...          Bottoms\n",
       "2  I never would have given these pants a second ...          Bottoms\n",
       "3  These pants are even better in person. the onl...          Bottoms\n",
       "4  The silhouette and length of this skirt and le...          Bottoms"
      ]
     },
     "execution_count": 4,
     "metadata": {},
     "output_type": "execute_result"
    }
   ],
   "source": [
    "data = pd.read_csv('dataset.csv')\n",
    "data.head()"
   ]
  },
  {
   "cell_type": "markdown",
   "id": "dba6c185",
   "metadata": {},
   "source": [
    "Let's check the shape of the data frame"
   ]
  },
  {
   "cell_type": "code",
   "execution_count": 5,
   "id": "decc2218",
   "metadata": {},
   "outputs": [
    {
     "data": {
      "text/plain": [
       "(3376, 2)"
      ]
     },
     "execution_count": 5,
     "metadata": {},
     "output_type": "execute_result"
    }
   ],
   "source": [
    "data.shape"
   ]
  },
  {
   "cell_type": "markdown",
   "id": "9943fdcf",
   "metadata": {},
   "source": [
    "Let's check the first `product_review`"
   ]
  },
  {
   "cell_type": "code",
   "execution_count": 6,
   "id": "ba28dd3f",
   "metadata": {},
   "outputs": [
    {
     "data": {
      "text/plain": [
       "\"I love, love, love this jumpsuit. it's fun, flirty, and fabulous! every time i wear it, i get nothing but great compliments!\""
      ]
     },
     "execution_count": 6,
     "metadata": {},
     "output_type": "execute_result"
    }
   ],
   "source": [
    "data.product_review[0]"
   ]
  },
  {
   "cell_type": "markdown",
   "id": "2c022bf2",
   "metadata": {},
   "source": [
    "Checking the number of reviews per product category"
   ]
  },
  {
   "cell_type": "code",
   "execution_count": 8,
   "id": "a1cc3c94",
   "metadata": {
    "scrolled": false
   },
   "outputs": [
    {
     "data": {
      "text/plain": [
       "Bottoms     685\n",
       "Dresses     681\n",
       "Tops        680\n",
       "Jackets     680\n",
       "Intimate    650\n",
       "Name: product_category, dtype: int64"
      ]
     },
     "execution_count": 8,
     "metadata": {},
     "output_type": "execute_result"
    }
   ],
   "source": [
    "data.product_category.value_counts()"
   ]
  },
  {
   "cell_type": "markdown",
   "id": "583712e7",
   "metadata": {},
   "source": [
    "## Task 2 \n",
    "\n",
    "### Clean and preprocess the reviews\n",
    "\n",
    "- Lower casing\n",
    "- Removing the punctuations\n",
    "\n",
    "---"
   ]
  },
  {
   "cell_type": "code",
   "execution_count": 9,
   "id": "856a08fd",
   "metadata": {},
   "outputs": [
    {
     "data": {
      "text/html": [
       "<div>\n",
       "<style scoped>\n",
       "    .dataframe tbody tr th:only-of-type {\n",
       "        vertical-align: middle;\n",
       "    }\n",
       "\n",
       "    .dataframe tbody tr th {\n",
       "        vertical-align: top;\n",
       "    }\n",
       "\n",
       "    .dataframe thead th {\n",
       "        text-align: right;\n",
       "    }\n",
       "</style>\n",
       "<table border=\"1\" class=\"dataframe\">\n",
       "  <thead>\n",
       "    <tr style=\"text-align: right;\">\n",
       "      <th></th>\n",
       "      <th>product_review</th>\n",
       "      <th>product_category</th>\n",
       "    </tr>\n",
       "  </thead>\n",
       "  <tbody>\n",
       "    <tr>\n",
       "      <th>0</th>\n",
       "      <td>I love, love, love this jumpsuit. it's fun, fl...</td>\n",
       "      <td>Bottoms</td>\n",
       "    </tr>\n",
       "    <tr>\n",
       "      <th>1</th>\n",
       "      <td>Beautifully made pants and on trend with the f...</td>\n",
       "      <td>Bottoms</td>\n",
       "    </tr>\n",
       "    <tr>\n",
       "      <th>2</th>\n",
       "      <td>I never would have given these pants a second ...</td>\n",
       "      <td>Bottoms</td>\n",
       "    </tr>\n",
       "    <tr>\n",
       "      <th>3</th>\n",
       "      <td>These pants are even better in person. the onl...</td>\n",
       "      <td>Bottoms</td>\n",
       "    </tr>\n",
       "    <tr>\n",
       "      <th>4</th>\n",
       "      <td>The silhouette and length of this skirt and le...</td>\n",
       "      <td>Bottoms</td>\n",
       "    </tr>\n",
       "  </tbody>\n",
       "</table>\n",
       "</div>"
      ],
      "text/plain": [
       "                                      product_review product_category\n",
       "0  I love, love, love this jumpsuit. it's fun, fl...          Bottoms\n",
       "1  Beautifully made pants and on trend with the f...          Bottoms\n",
       "2  I never would have given these pants a second ...          Bottoms\n",
       "3  These pants are even better in person. the onl...          Bottoms\n",
       "4  The silhouette and length of this skirt and le...          Bottoms"
      ]
     },
     "execution_count": 9,
     "metadata": {},
     "output_type": "execute_result"
    }
   ],
   "source": [
    "data.head()"
   ]
  },
  {
   "cell_type": "markdown",
   "id": "066075da",
   "metadata": {},
   "source": [
    "Converting all the reveiews to lower case"
   ]
  },
  {
   "cell_type": "code",
   "execution_count": 15,
   "id": "9a0e81d5",
   "metadata": {},
   "outputs": [
    {
     "data": {
      "text/html": [
       "<div>\n",
       "<style scoped>\n",
       "    .dataframe tbody tr th:only-of-type {\n",
       "        vertical-align: middle;\n",
       "    }\n",
       "\n",
       "    .dataframe tbody tr th {\n",
       "        vertical-align: top;\n",
       "    }\n",
       "\n",
       "    .dataframe thead th {\n",
       "        text-align: right;\n",
       "    }\n",
       "</style>\n",
       "<table border=\"1\" class=\"dataframe\">\n",
       "  <thead>\n",
       "    <tr style=\"text-align: right;\">\n",
       "      <th></th>\n",
       "      <th>product_review</th>\n",
       "      <th>product_category</th>\n",
       "    </tr>\n",
       "  </thead>\n",
       "  <tbody>\n",
       "    <tr>\n",
       "      <th>0</th>\n",
       "      <td>i love, love, love this jumpsuit. it's fun, fl...</td>\n",
       "      <td>Bottoms</td>\n",
       "    </tr>\n",
       "    <tr>\n",
       "      <th>1</th>\n",
       "      <td>beautifully made pants and on trend with the f...</td>\n",
       "      <td>Bottoms</td>\n",
       "    </tr>\n",
       "    <tr>\n",
       "      <th>2</th>\n",
       "      <td>i never would have given these pants a second ...</td>\n",
       "      <td>Bottoms</td>\n",
       "    </tr>\n",
       "    <tr>\n",
       "      <th>3</th>\n",
       "      <td>these pants are even better in person. the onl...</td>\n",
       "      <td>Bottoms</td>\n",
       "    </tr>\n",
       "    <tr>\n",
       "      <th>4</th>\n",
       "      <td>the silhouette and length of this skirt and le...</td>\n",
       "      <td>Bottoms</td>\n",
       "    </tr>\n",
       "  </tbody>\n",
       "</table>\n",
       "</div>"
      ],
      "text/plain": [
       "                                      product_review product_category\n",
       "0  i love, love, love this jumpsuit. it's fun, fl...          Bottoms\n",
       "1  beautifully made pants and on trend with the f...          Bottoms\n",
       "2  i never would have given these pants a second ...          Bottoms\n",
       "3  these pants are even better in person. the onl...          Bottoms\n",
       "4  the silhouette and length of this skirt and le...          Bottoms"
      ]
     },
     "execution_count": 15,
     "metadata": {},
     "output_type": "execute_result"
    }
   ],
   "source": [
    "data.product_review = data.product_review.str.lower()\n",
    "data.head()"
   ]
  },
  {
   "cell_type": "markdown",
   "id": "26864a6a",
   "metadata": {},
   "source": [
    "Removing the punctuations"
   ]
  },
  {
   "cell_type": "code",
   "execution_count": 20,
   "id": "423ff5d2",
   "metadata": {},
   "outputs": [
    {
     "data": {
      "text/plain": [
       "'i love love love this jumpsuit its fun flirty and fabulous every time i wear it i get nothing but great compliments'"
      ]
     },
     "execution_count": 20,
     "metadata": {},
     "output_type": "execute_result"
    }
   ],
   "source": [
    "data.product_review[0].translate(str.maketrans('', '', string.punctuation))"
   ]
  },
  {
   "cell_type": "markdown",
   "id": "169d70a4",
   "metadata": {},
   "source": [
    "Let's remove the punctuations from all the reviews"
   ]
  },
  {
   "cell_type": "code",
   "execution_count": 21,
   "id": "779656b4",
   "metadata": {},
   "outputs": [],
   "source": [
    "data.product_review = data.product_review.str.translate(str.maketrans('', '', string.punctuation))"
   ]
  },
  {
   "cell_type": "markdown",
   "id": "30bd0470",
   "metadata": {},
   "source": [
    "## Task 3 \n",
    "\n",
    "### Tokenize the reviews and removing the stop words \n",
    "---\n",
    "- <b>Tokenization</b> is the process of breaking down a continuous stream of text, such as a sentence or a paragraph, into smaller units called tokens. These tokens typically correspond to words, but can also represent subword units like prefixes, suffixes, and stems.\n",
    "\n",
    "- <b>Tokenization</b> facilitates the transformation of text into a format that machine learning algorithms can understand."
   ]
  },
  {
   "cell_type": "code",
   "execution_count": 22,
   "id": "c2ee67af",
   "metadata": {},
   "outputs": [
    {
     "data": {
      "text/plain": [
       "['i',\n",
       " 'love',\n",
       " 'love',\n",
       " 'love',\n",
       " 'this',\n",
       " 'jumpsuit',\n",
       " 'its',\n",
       " 'fun',\n",
       " 'flirty',\n",
       " 'and',\n",
       " 'fabulous',\n",
       " 'every',\n",
       " 'time',\n",
       " 'i',\n",
       " 'wear',\n",
       " 'it',\n",
       " 'i',\n",
       " 'get',\n",
       " 'nothing',\n",
       " 'but',\n",
       " 'great',\n",
       " 'compliments']"
      ]
     },
     "execution_count": 22,
     "metadata": {},
     "output_type": "execute_result"
    }
   ],
   "source": [
    "tokens = nltk.word_tokenize(data.product_review[0])\n",
    "tokens"
   ]
  },
  {
   "cell_type": "markdown",
   "id": "37fab949",
   "metadata": {},
   "source": [
    "Let's remove the Stop Words\n",
    "    \n",
    "<b>Stop words</b> are common words (e.g., \"the,\" \"and,\" \"is\") that appear frequently in a language and have little semantic value. Removing them is essential in natural language processing tasks to reduce data size, speed up processing, and improve the accuracy of algorithms by focusing on more informative words that convey the actual meaning of a text.\n"
   ]
  },
  {
   "cell_type": "code",
   "execution_count": 31,
   "id": "db3a98b8",
   "metadata": {},
   "outputs": [
    {
     "data": {
      "text/plain": [
       "['i',\n",
       " 'me',\n",
       " 'my',\n",
       " 'myself',\n",
       " 'we',\n",
       " 'our',\n",
       " 'ours',\n",
       " 'ourselves',\n",
       " 'you',\n",
       " \"you're\",\n",
       " \"you've\",\n",
       " \"you'll\",\n",
       " \"you'd\",\n",
       " 'your',\n",
       " 'yours',\n",
       " 'yourself',\n",
       " 'yourselves',\n",
       " 'he',\n",
       " 'him',\n",
       " 'his',\n",
       " 'himself',\n",
       " 'she',\n",
       " \"she's\",\n",
       " 'her',\n",
       " 'hers',\n",
       " 'herself',\n",
       " 'it',\n",
       " \"it's\",\n",
       " 'its',\n",
       " 'itself',\n",
       " 'they',\n",
       " 'them',\n",
       " 'their',\n",
       " 'theirs',\n",
       " 'themselves',\n",
       " 'what',\n",
       " 'which',\n",
       " 'who',\n",
       " 'whom',\n",
       " 'this',\n",
       " 'that',\n",
       " \"that'll\",\n",
       " 'these',\n",
       " 'those',\n",
       " 'am',\n",
       " 'is',\n",
       " 'are',\n",
       " 'was',\n",
       " 'were',\n",
       " 'be',\n",
       " 'been',\n",
       " 'being',\n",
       " 'have',\n",
       " 'has',\n",
       " 'had',\n",
       " 'having',\n",
       " 'do',\n",
       " 'does',\n",
       " 'did',\n",
       " 'doing',\n",
       " 'a',\n",
       " 'an',\n",
       " 'the',\n",
       " 'and',\n",
       " 'but',\n",
       " 'if',\n",
       " 'or',\n",
       " 'because',\n",
       " 'as',\n",
       " 'until',\n",
       " 'while',\n",
       " 'of',\n",
       " 'at',\n",
       " 'by',\n",
       " 'for',\n",
       " 'with',\n",
       " 'about',\n",
       " 'against',\n",
       " 'between',\n",
       " 'into',\n",
       " 'through',\n",
       " 'during',\n",
       " 'before',\n",
       " 'after',\n",
       " 'above',\n",
       " 'below',\n",
       " 'to',\n",
       " 'from',\n",
       " 'up',\n",
       " 'down',\n",
       " 'in',\n",
       " 'out',\n",
       " 'on',\n",
       " 'off',\n",
       " 'over',\n",
       " 'under',\n",
       " 'again',\n",
       " 'further',\n",
       " 'then',\n",
       " 'once',\n",
       " 'here',\n",
       " 'there',\n",
       " 'when',\n",
       " 'where',\n",
       " 'why',\n",
       " 'how',\n",
       " 'all',\n",
       " 'any',\n",
       " 'both',\n",
       " 'each',\n",
       " 'few',\n",
       " 'more',\n",
       " 'most',\n",
       " 'other',\n",
       " 'some',\n",
       " 'such',\n",
       " 'no',\n",
       " 'nor',\n",
       " 'not',\n",
       " 'only',\n",
       " 'own',\n",
       " 'same',\n",
       " 'so',\n",
       " 'than',\n",
       " 'too',\n",
       " 'very',\n",
       " 's',\n",
       " 't',\n",
       " 'can',\n",
       " 'will',\n",
       " 'just',\n",
       " 'don',\n",
       " \"don't\",\n",
       " 'should',\n",
       " \"should've\",\n",
       " 'now',\n",
       " 'd',\n",
       " 'll',\n",
       " 'm',\n",
       " 'o',\n",
       " 're',\n",
       " 've',\n",
       " 'y',\n",
       " 'ain',\n",
       " 'aren',\n",
       " \"aren't\",\n",
       " 'couldn',\n",
       " \"couldn't\",\n",
       " 'didn',\n",
       " \"didn't\",\n",
       " 'doesn',\n",
       " \"doesn't\",\n",
       " 'hadn',\n",
       " \"hadn't\",\n",
       " 'hasn',\n",
       " \"hasn't\",\n",
       " 'haven',\n",
       " \"haven't\",\n",
       " 'isn',\n",
       " \"isn't\",\n",
       " 'ma',\n",
       " 'mightn',\n",
       " \"mightn't\",\n",
       " 'mustn',\n",
       " \"mustn't\",\n",
       " 'needn',\n",
       " \"needn't\",\n",
       " 'shan',\n",
       " \"shan't\",\n",
       " 'shouldn',\n",
       " \"shouldn't\",\n",
       " 'wasn',\n",
       " \"wasn't\",\n",
       " 'weren',\n",
       " \"weren't\",\n",
       " 'won',\n",
       " \"won't\",\n",
       " 'wouldn',\n",
       " \"wouldn't\",\n",
       " 'im',\n",
       " 'its',\n",
       " 'your',\n",
       " 'every',\n",
       " 'thing',\n",
       " 'cant',\n",
       " 'dont',\n",
       " 'dosnt']"
      ]
     },
     "execution_count": 31,
     "metadata": {},
     "output_type": "execute_result"
    }
   ],
   "source": [
    "english_stop_words = stopwords.words(\"english\")\n",
    "english_stop_words.extend(['im', 'its', 'your', 'every', 'thing', 'cant', 'dont', 'dosnt'])\n",
    "english_stop_words"
   ]
  },
  {
   "cell_type": "markdown",
   "id": "fa508fe7",
   "metadata": {},
   "source": [
    "Let's remove the stop words from the `tokens` list"
   ]
  },
  {
   "cell_type": "code",
   "execution_count": 32,
   "id": "21fde5e1",
   "metadata": {},
   "outputs": [
    {
     "data": {
      "text/plain": [
       "['love',\n",
       " 'love',\n",
       " 'love',\n",
       " 'jumpsuit',\n",
       " 'fun',\n",
       " 'flirty',\n",
       " 'fabulous',\n",
       " 'time',\n",
       " 'wear',\n",
       " 'get',\n",
       " 'nothing',\n",
       " 'great',\n",
       " 'compliments']"
      ]
     },
     "execution_count": 32,
     "metadata": {},
     "output_type": "execute_result"
    }
   ],
   "source": [
    "[t for t in tokens if t not in english_stop_words]"
   ]
  },
  {
   "cell_type": "markdown",
   "id": "83fe3519",
   "metadata": {},
   "source": [
    "Let's tokenize all the reviews "
   ]
  },
  {
   "cell_type": "code",
   "execution_count": 34,
   "id": "c0d660ca",
   "metadata": {},
   "outputs": [
    {
     "data": {
      "text/html": [
       "<div>\n",
       "<style scoped>\n",
       "    .dataframe tbody tr th:only-of-type {\n",
       "        vertical-align: middle;\n",
       "    }\n",
       "\n",
       "    .dataframe tbody tr th {\n",
       "        vertical-align: top;\n",
       "    }\n",
       "\n",
       "    .dataframe thead th {\n",
       "        text-align: right;\n",
       "    }\n",
       "</style>\n",
       "<table border=\"1\" class=\"dataframe\">\n",
       "  <thead>\n",
       "    <tr style=\"text-align: right;\">\n",
       "      <th></th>\n",
       "      <th>product_review</th>\n",
       "      <th>product_category</th>\n",
       "      <th>product_review_tokenized</th>\n",
       "    </tr>\n",
       "  </thead>\n",
       "  <tbody>\n",
       "    <tr>\n",
       "      <th>0</th>\n",
       "      <td>i love love love this jumpsuit its fun flirty ...</td>\n",
       "      <td>Bottoms</td>\n",
       "      <td>[i, love, love, love, this, jumpsuit, its, fun...</td>\n",
       "    </tr>\n",
       "    <tr>\n",
       "      <th>1</th>\n",
       "      <td>beautifully made pants and on trend with the f...</td>\n",
       "      <td>Bottoms</td>\n",
       "      <td>[beautifully, made, pants, and, on, trend, wit...</td>\n",
       "    </tr>\n",
       "    <tr>\n",
       "      <th>2</th>\n",
       "      <td>i never would have given these pants a second ...</td>\n",
       "      <td>Bottoms</td>\n",
       "      <td>[i, never, would, have, given, these, pants, a...</td>\n",
       "    </tr>\n",
       "    <tr>\n",
       "      <th>3</th>\n",
       "      <td>these pants are even better in person the only...</td>\n",
       "      <td>Bottoms</td>\n",
       "      <td>[these, pants, are, even, better, in, person, ...</td>\n",
       "    </tr>\n",
       "    <tr>\n",
       "      <th>4</th>\n",
       "      <td>the silhouette and length of this skirt and le...</td>\n",
       "      <td>Bottoms</td>\n",
       "      <td>[the, silhouette, and, length, of, this, skirt...</td>\n",
       "    </tr>\n",
       "  </tbody>\n",
       "</table>\n",
       "</div>"
      ],
      "text/plain": [
       "                                      product_review product_category  \\\n",
       "0  i love love love this jumpsuit its fun flirty ...          Bottoms   \n",
       "1  beautifully made pants and on trend with the f...          Bottoms   \n",
       "2  i never would have given these pants a second ...          Bottoms   \n",
       "3  these pants are even better in person the only...          Bottoms   \n",
       "4  the silhouette and length of this skirt and le...          Bottoms   \n",
       "\n",
       "                            product_review_tokenized  \n",
       "0  [i, love, love, love, this, jumpsuit, its, fun...  \n",
       "1  [beautifully, made, pants, and, on, trend, wit...  \n",
       "2  [i, never, would, have, given, these, pants, a...  \n",
       "3  [these, pants, are, even, better, in, person, ...  \n",
       "4  [the, silhouette, and, length, of, this, skirt...  "
      ]
     },
     "execution_count": 34,
     "metadata": {},
     "output_type": "execute_result"
    }
   ],
   "source": [
    "data['product_review_tokenized'] = data.product_review.apply(nltk.word_tokenize)\n",
    "data.head()"
   ]
  },
  {
   "cell_type": "markdown",
   "id": "d0fad5cd",
   "metadata": {},
   "source": [
    "remove the stopwords from the tokenized reviews"
   ]
  },
  {
   "cell_type": "code",
   "execution_count": 38,
   "id": "e31cf6c9",
   "metadata": {},
   "outputs": [
    {
     "data": {
      "text/html": [
       "<div>\n",
       "<style scoped>\n",
       "    .dataframe tbody tr th:only-of-type {\n",
       "        vertical-align: middle;\n",
       "    }\n",
       "\n",
       "    .dataframe tbody tr th {\n",
       "        vertical-align: top;\n",
       "    }\n",
       "\n",
       "    .dataframe thead th {\n",
       "        text-align: right;\n",
       "    }\n",
       "</style>\n",
       "<table border=\"1\" class=\"dataframe\">\n",
       "  <thead>\n",
       "    <tr style=\"text-align: right;\">\n",
       "      <th></th>\n",
       "      <th>product_review</th>\n",
       "      <th>product_category</th>\n",
       "      <th>product_review_tokenized</th>\n",
       "      <th>cleaned_tokens</th>\n",
       "    </tr>\n",
       "  </thead>\n",
       "  <tbody>\n",
       "    <tr>\n",
       "      <th>0</th>\n",
       "      <td>i love love love this jumpsuit its fun flirty ...</td>\n",
       "      <td>Bottoms</td>\n",
       "      <td>[i, love, love, love, this, jumpsuit, its, fun...</td>\n",
       "      <td>[love, love, love, jumpsuit, fun, flirty, fabu...</td>\n",
       "    </tr>\n",
       "    <tr>\n",
       "      <th>1</th>\n",
       "      <td>beautifully made pants and on trend with the f...</td>\n",
       "      <td>Bottoms</td>\n",
       "      <td>[beautifully, made, pants, and, on, trend, wit...</td>\n",
       "      <td>[beautifully, made, pants, trend, flared, crop...</td>\n",
       "    </tr>\n",
       "    <tr>\n",
       "      <th>2</th>\n",
       "      <td>i never would have given these pants a second ...</td>\n",
       "      <td>Bottoms</td>\n",
       "      <td>[i, never, would, have, given, these, pants, a...</td>\n",
       "      <td>[never, would, given, pants, second, look, onl...</td>\n",
       "    </tr>\n",
       "    <tr>\n",
       "      <th>3</th>\n",
       "      <td>these pants are even better in person the only...</td>\n",
       "      <td>Bottoms</td>\n",
       "      <td>[these, pants, are, even, better, in, person, ...</td>\n",
       "      <td>[pants, even, better, person, downside, need, ...</td>\n",
       "    </tr>\n",
       "    <tr>\n",
       "      <th>4</th>\n",
       "      <td>the silhouette and length of this skirt and le...</td>\n",
       "      <td>Bottoms</td>\n",
       "      <td>[the, silhouette, and, length, of, this, skirt...</td>\n",
       "      <td>[silhouette, length, skirt, length, flattering...</td>\n",
       "    </tr>\n",
       "  </tbody>\n",
       "</table>\n",
       "</div>"
      ],
      "text/plain": [
       "                                      product_review product_category  \\\n",
       "0  i love love love this jumpsuit its fun flirty ...          Bottoms   \n",
       "1  beautifully made pants and on trend with the f...          Bottoms   \n",
       "2  i never would have given these pants a second ...          Bottoms   \n",
       "3  these pants are even better in person the only...          Bottoms   \n",
       "4  the silhouette and length of this skirt and le...          Bottoms   \n",
       "\n",
       "                            product_review_tokenized  \\\n",
       "0  [i, love, love, love, this, jumpsuit, its, fun...   \n",
       "1  [beautifully, made, pants, and, on, trend, wit...   \n",
       "2  [i, never, would, have, given, these, pants, a...   \n",
       "3  [these, pants, are, even, better, in, person, ...   \n",
       "4  [the, silhouette, and, length, of, this, skirt...   \n",
       "\n",
       "                                      cleaned_tokens  \n",
       "0  [love, love, love, jumpsuit, fun, flirty, fabu...  \n",
       "1  [beautifully, made, pants, trend, flared, crop...  \n",
       "2  [never, would, given, pants, second, look, onl...  \n",
       "3  [pants, even, better, person, downside, need, ...  \n",
       "4  [silhouette, length, skirt, length, flattering...  "
      ]
     },
     "execution_count": 38,
     "metadata": {},
     "output_type": "execute_result"
    }
   ],
   "source": [
    "def remove_stopwords(tokens):\n",
    "    return [t for t in tokens if t not in english_stop_words]\n",
    "\n",
    "data['cleaned_tokens'] = data.product_review_tokenized.apply(remove_stopwords)\n",
    "data.head()"
   ]
  },
  {
   "cell_type": "markdown",
   "id": "21390be4",
   "metadata": {},
   "source": [
    "Let's recreate the reviews from the cleaned tokens again"
   ]
  },
  {
   "cell_type": "code",
   "execution_count": 40,
   "id": "ed33ff54",
   "metadata": {},
   "outputs": [
    {
     "data": {
      "text/html": [
       "<div>\n",
       "<style scoped>\n",
       "    .dataframe tbody tr th:only-of-type {\n",
       "        vertical-align: middle;\n",
       "    }\n",
       "\n",
       "    .dataframe tbody tr th {\n",
       "        vertical-align: top;\n",
       "    }\n",
       "\n",
       "    .dataframe thead th {\n",
       "        text-align: right;\n",
       "    }\n",
       "</style>\n",
       "<table border=\"1\" class=\"dataframe\">\n",
       "  <thead>\n",
       "    <tr style=\"text-align: right;\">\n",
       "      <th></th>\n",
       "      <th>product_review</th>\n",
       "      <th>product_category</th>\n",
       "      <th>product_review_tokenized</th>\n",
       "      <th>cleaned_tokens</th>\n",
       "      <th>product_review_cleaned</th>\n",
       "    </tr>\n",
       "  </thead>\n",
       "  <tbody>\n",
       "    <tr>\n",
       "      <th>0</th>\n",
       "      <td>i love love love this jumpsuit its fun flirty ...</td>\n",
       "      <td>Bottoms</td>\n",
       "      <td>[i, love, love, love, this, jumpsuit, its, fun...</td>\n",
       "      <td>[love, love, love, jumpsuit, fun, flirty, fabu...</td>\n",
       "      <td>love love love jumpsuit fun flirty fabulous ti...</td>\n",
       "    </tr>\n",
       "    <tr>\n",
       "      <th>1</th>\n",
       "      <td>beautifully made pants and on trend with the f...</td>\n",
       "      <td>Bottoms</td>\n",
       "      <td>[beautifully, made, pants, and, on, trend, wit...</td>\n",
       "      <td>[beautifully, made, pants, trend, flared, crop...</td>\n",
       "      <td>beautifully made pants trend flared crop much ...</td>\n",
       "    </tr>\n",
       "    <tr>\n",
       "      <th>2</th>\n",
       "      <td>i never would have given these pants a second ...</td>\n",
       "      <td>Bottoms</td>\n",
       "      <td>[i, never, would, have, given, these, pants, a...</td>\n",
       "      <td>[never, would, given, pants, second, look, onl...</td>\n",
       "      <td>never would given pants second look online per...</td>\n",
       "    </tr>\n",
       "    <tr>\n",
       "      <th>3</th>\n",
       "      <td>these pants are even better in person the only...</td>\n",
       "      <td>Bottoms</td>\n",
       "      <td>[these, pants, are, even, better, in, person, ...</td>\n",
       "      <td>[pants, even, better, person, downside, need, ...</td>\n",
       "      <td>pants even better person downside need dry cle...</td>\n",
       "    </tr>\n",
       "    <tr>\n",
       "      <th>4</th>\n",
       "      <td>the silhouette and length of this skirt and le...</td>\n",
       "      <td>Bottoms</td>\n",
       "      <td>[the, silhouette, and, length, of, this, skirt...</td>\n",
       "      <td>[silhouette, length, skirt, length, flattering...</td>\n",
       "      <td>silhouette length skirt length flattering clas...</td>\n",
       "    </tr>\n",
       "  </tbody>\n",
       "</table>\n",
       "</div>"
      ],
      "text/plain": [
       "                                      product_review product_category  \\\n",
       "0  i love love love this jumpsuit its fun flirty ...          Bottoms   \n",
       "1  beautifully made pants and on trend with the f...          Bottoms   \n",
       "2  i never would have given these pants a second ...          Bottoms   \n",
       "3  these pants are even better in person the only...          Bottoms   \n",
       "4  the silhouette and length of this skirt and le...          Bottoms   \n",
       "\n",
       "                            product_review_tokenized  \\\n",
       "0  [i, love, love, love, this, jumpsuit, its, fun...   \n",
       "1  [beautifully, made, pants, and, on, trend, wit...   \n",
       "2  [i, never, would, have, given, these, pants, a...   \n",
       "3  [these, pants, are, even, better, in, person, ...   \n",
       "4  [the, silhouette, and, length, of, this, skirt...   \n",
       "\n",
       "                                      cleaned_tokens  \\\n",
       "0  [love, love, love, jumpsuit, fun, flirty, fabu...   \n",
       "1  [beautifully, made, pants, trend, flared, crop...   \n",
       "2  [never, would, given, pants, second, look, onl...   \n",
       "3  [pants, even, better, person, downside, need, ...   \n",
       "4  [silhouette, length, skirt, length, flattering...   \n",
       "\n",
       "                              product_review_cleaned  \n",
       "0  love love love jumpsuit fun flirty fabulous ti...  \n",
       "1  beautifully made pants trend flared crop much ...  \n",
       "2  never would given pants second look online per...  \n",
       "3  pants even better person downside need dry cle...  \n",
       "4  silhouette length skirt length flattering clas...  "
      ]
     },
     "execution_count": 40,
     "metadata": {},
     "output_type": "execute_result"
    }
   ],
   "source": [
    "data['product_review_cleaned'] = data.cleaned_tokens.apply(lambda x: \" \".join(x))\n",
    "data.head()"
   ]
  },
  {
   "cell_type": "markdown",
   "id": "4081f4a8",
   "metadata": {},
   "source": [
    "## Task 4\n",
    "\n",
    "### Exploring the tokens and product categories"
   ]
  },
  {
   "cell_type": "code",
   "execution_count": 41,
   "id": "95713253",
   "metadata": {},
   "outputs": [
    {
     "data": {
      "text/html": [
       "<div>\n",
       "<style scoped>\n",
       "    .dataframe tbody tr th:only-of-type {\n",
       "        vertical-align: middle;\n",
       "    }\n",
       "\n",
       "    .dataframe tbody tr th {\n",
       "        vertical-align: top;\n",
       "    }\n",
       "\n",
       "    .dataframe thead th {\n",
       "        text-align: right;\n",
       "    }\n",
       "</style>\n",
       "<table border=\"1\" class=\"dataframe\">\n",
       "  <thead>\n",
       "    <tr style=\"text-align: right;\">\n",
       "      <th></th>\n",
       "      <th>product_review</th>\n",
       "      <th>product_category</th>\n",
       "      <th>product_review_tokenized</th>\n",
       "      <th>cleaned_tokens</th>\n",
       "      <th>product_review_cleaned</th>\n",
       "    </tr>\n",
       "  </thead>\n",
       "  <tbody>\n",
       "    <tr>\n",
       "      <th>0</th>\n",
       "      <td>i love love love this jumpsuit its fun flirty ...</td>\n",
       "      <td>Bottoms</td>\n",
       "      <td>[i, love, love, love, this, jumpsuit, its, fun...</td>\n",
       "      <td>[love, love, love, jumpsuit, fun, flirty, fabu...</td>\n",
       "      <td>love love love jumpsuit fun flirty fabulous ti...</td>\n",
       "    </tr>\n",
       "    <tr>\n",
       "      <th>1</th>\n",
       "      <td>beautifully made pants and on trend with the f...</td>\n",
       "      <td>Bottoms</td>\n",
       "      <td>[beautifully, made, pants, and, on, trend, wit...</td>\n",
       "      <td>[beautifully, made, pants, trend, flared, crop...</td>\n",
       "      <td>beautifully made pants trend flared crop much ...</td>\n",
       "    </tr>\n",
       "    <tr>\n",
       "      <th>2</th>\n",
       "      <td>i never would have given these pants a second ...</td>\n",
       "      <td>Bottoms</td>\n",
       "      <td>[i, never, would, have, given, these, pants, a...</td>\n",
       "      <td>[never, would, given, pants, second, look, onl...</td>\n",
       "      <td>never would given pants second look online per...</td>\n",
       "    </tr>\n",
       "    <tr>\n",
       "      <th>3</th>\n",
       "      <td>these pants are even better in person the only...</td>\n",
       "      <td>Bottoms</td>\n",
       "      <td>[these, pants, are, even, better, in, person, ...</td>\n",
       "      <td>[pants, even, better, person, downside, need, ...</td>\n",
       "      <td>pants even better person downside need dry cle...</td>\n",
       "    </tr>\n",
       "    <tr>\n",
       "      <th>4</th>\n",
       "      <td>the silhouette and length of this skirt and le...</td>\n",
       "      <td>Bottoms</td>\n",
       "      <td>[the, silhouette, and, length, of, this, skirt...</td>\n",
       "      <td>[silhouette, length, skirt, length, flattering...</td>\n",
       "      <td>silhouette length skirt length flattering clas...</td>\n",
       "    </tr>\n",
       "  </tbody>\n",
       "</table>\n",
       "</div>"
      ],
      "text/plain": [
       "                                      product_review product_category  \\\n",
       "0  i love love love this jumpsuit its fun flirty ...          Bottoms   \n",
       "1  beautifully made pants and on trend with the f...          Bottoms   \n",
       "2  i never would have given these pants a second ...          Bottoms   \n",
       "3  these pants are even better in person the only...          Bottoms   \n",
       "4  the silhouette and length of this skirt and le...          Bottoms   \n",
       "\n",
       "                            product_review_tokenized  \\\n",
       "0  [i, love, love, love, this, jumpsuit, its, fun...   \n",
       "1  [beautifully, made, pants, and, on, trend, wit...   \n",
       "2  [i, never, would, have, given, these, pants, a...   \n",
       "3  [these, pants, are, even, better, in, person, ...   \n",
       "4  [the, silhouette, and, length, of, this, skirt...   \n",
       "\n",
       "                                      cleaned_tokens  \\\n",
       "0  [love, love, love, jumpsuit, fun, flirty, fabu...   \n",
       "1  [beautifully, made, pants, trend, flared, crop...   \n",
       "2  [never, would, given, pants, second, look, onl...   \n",
       "3  [pants, even, better, person, downside, need, ...   \n",
       "4  [silhouette, length, skirt, length, flattering...   \n",
       "\n",
       "                              product_review_cleaned  \n",
       "0  love love love jumpsuit fun flirty fabulous ti...  \n",
       "1  beautifully made pants trend flared crop much ...  \n",
       "2  never would given pants second look online per...  \n",
       "3  pants even better person downside need dry cle...  \n",
       "4  silhouette length skirt length flattering clas...  "
      ]
     },
     "execution_count": 41,
     "metadata": {},
     "output_type": "execute_result"
    }
   ],
   "source": [
    "data.head()"
   ]
  },
  {
   "cell_type": "markdown",
   "id": "eeba90ac",
   "metadata": {},
   "source": [
    "Let's take a look at the product categories again"
   ]
  },
  {
   "cell_type": "code",
   "execution_count": 42,
   "id": "bfdd101f",
   "metadata": {},
   "outputs": [
    {
     "data": {
      "text/plain": [
       "Bottoms     685\n",
       "Dresses     681\n",
       "Tops        680\n",
       "Jackets     680\n",
       "Intimate    650\n",
       "Name: product_category, dtype: int64"
      ]
     },
     "execution_count": 42,
     "metadata": {},
     "output_type": "execute_result"
    }
   ],
   "source": [
    "data.product_category.value_counts()"
   ]
  },
  {
   "cell_type": "markdown",
   "id": "a365b6dc",
   "metadata": {},
   "source": [
    "Let's combine all the tokens used in reviews for the `Tops`"
   ]
  },
  {
   "cell_type": "code",
   "execution_count": 45,
   "id": "54674262",
   "metadata": {},
   "outputs": [
    {
     "data": {
      "text/plain": [
       "18262"
      ]
     },
     "execution_count": 45,
     "metadata": {},
     "output_type": "execute_result"
    }
   ],
   "source": [
    "tops_token = []\n",
    "\n",
    "for x in data[data.product_category == 'Tops'].cleaned_tokens:\n",
    "    tops_token.extend(x)\n",
    "len(tops_token)"
   ]
  },
  {
   "cell_type": "markdown",
   "id": "be6cebdc",
   "metadata": {},
   "source": [
    "Let's find the 20 most common words in the `Tops` products' reviews "
   ]
  },
  {
   "cell_type": "code",
   "execution_count": 47,
   "id": "3d06c820",
   "metadata": {},
   "outputs": [
    {
     "data": {
      "text/plain": [
       "[('love', 337),\n",
       " ('top', 334),\n",
       " ('wear', 233),\n",
       " ('great', 229),\n",
       " ('size', 211),\n",
       " ('color', 185),\n",
       " ('shirt', 172),\n",
       " ('fit', 167),\n",
       " ('perfect', 146),\n",
       " ('small', 141),\n",
       " ('like', 140),\n",
       " ('soft', 136),\n",
       " ('flattering', 128),\n",
       " ('little', 120),\n",
       " ('one', 119),\n",
       " ('sweater', 118),\n",
       " ('fits', 112),\n",
       " ('bought', 111),\n",
       " ('well', 109),\n",
       " ('would', 109)]"
      ]
     },
     "execution_count": 47,
     "metadata": {},
     "output_type": "execute_result"
    }
   ],
   "source": [
    "freq_dist = FreqDist(tops_token)\n",
    "freq_dist.most_common(20)"
   ]
  },
  {
   "cell_type": "markdown",
   "id": "5bcb6cbf",
   "metadata": {},
   "source": [
    "Exercise: Find the 20 most common words in the `Dresses` products' reviews "
   ]
  },
  {
   "cell_type": "code",
   "execution_count": 49,
   "id": "8212717d",
   "metadata": {},
   "outputs": [
    {
     "data": {
      "text/plain": [
       "[('dress', 1062),\n",
       " ('like', 321),\n",
       " ('fabric', 254),\n",
       " ('would', 220),\n",
       " ('size', 207),\n",
       " ('fit', 207),\n",
       " ('back', 166),\n",
       " ('look', 157),\n",
       " ('really', 154),\n",
       " ('love', 152),\n",
       " ('ordered', 146),\n",
       " ('material', 139),\n",
       " ('small', 128),\n",
       " ('looks', 119),\n",
       " ('looked', 118),\n",
       " ('much', 111),\n",
       " ('also', 106),\n",
       " ('top', 105),\n",
       " ('wear', 105),\n",
       " ('way', 103)]"
      ]
     },
     "execution_count": 49,
     "metadata": {},
     "output_type": "execute_result"
    }
   ],
   "source": [
    "dresses_token = []\n",
    "\n",
    "for x in data[data.product_category == 'Dresses'].cleaned_tokens:\n",
    "    dresses_token.extend(x)\n",
    "len(dresses_token)\n",
    "\n",
    "freq_dist = FreqDist(dresses_token)\n",
    "freq_dist.most_common(20)"
   ]
  },
  {
   "cell_type": "markdown",
   "id": "2a6d15ee",
   "metadata": {},
   "source": [
    "## Task 5\n",
    "\n",
    "### Extracting the adjectives used in the reviews"
   ]
  },
  {
   "cell_type": "code",
   "execution_count": 50,
   "id": "25a8c628",
   "metadata": {},
   "outputs": [
    {
     "data": {
      "text/html": [
       "<div>\n",
       "<style scoped>\n",
       "    .dataframe tbody tr th:only-of-type {\n",
       "        vertical-align: middle;\n",
       "    }\n",
       "\n",
       "    .dataframe tbody tr th {\n",
       "        vertical-align: top;\n",
       "    }\n",
       "\n",
       "    .dataframe thead th {\n",
       "        text-align: right;\n",
       "    }\n",
       "</style>\n",
       "<table border=\"1\" class=\"dataframe\">\n",
       "  <thead>\n",
       "    <tr style=\"text-align: right;\">\n",
       "      <th></th>\n",
       "      <th>product_review</th>\n",
       "      <th>product_category</th>\n",
       "      <th>product_review_tokenized</th>\n",
       "      <th>cleaned_tokens</th>\n",
       "      <th>product_review_cleaned</th>\n",
       "    </tr>\n",
       "  </thead>\n",
       "  <tbody>\n",
       "    <tr>\n",
       "      <th>0</th>\n",
       "      <td>i love love love this jumpsuit its fun flirty ...</td>\n",
       "      <td>Bottoms</td>\n",
       "      <td>[i, love, love, love, this, jumpsuit, its, fun...</td>\n",
       "      <td>[love, love, love, jumpsuit, fun, flirty, fabu...</td>\n",
       "      <td>love love love jumpsuit fun flirty fabulous ti...</td>\n",
       "    </tr>\n",
       "    <tr>\n",
       "      <th>1</th>\n",
       "      <td>beautifully made pants and on trend with the f...</td>\n",
       "      <td>Bottoms</td>\n",
       "      <td>[beautifully, made, pants, and, on, trend, wit...</td>\n",
       "      <td>[beautifully, made, pants, trend, flared, crop...</td>\n",
       "      <td>beautifully made pants trend flared crop much ...</td>\n",
       "    </tr>\n",
       "    <tr>\n",
       "      <th>2</th>\n",
       "      <td>i never would have given these pants a second ...</td>\n",
       "      <td>Bottoms</td>\n",
       "      <td>[i, never, would, have, given, these, pants, a...</td>\n",
       "      <td>[never, would, given, pants, second, look, onl...</td>\n",
       "      <td>never would given pants second look online per...</td>\n",
       "    </tr>\n",
       "    <tr>\n",
       "      <th>3</th>\n",
       "      <td>these pants are even better in person the only...</td>\n",
       "      <td>Bottoms</td>\n",
       "      <td>[these, pants, are, even, better, in, person, ...</td>\n",
       "      <td>[pants, even, better, person, downside, need, ...</td>\n",
       "      <td>pants even better person downside need dry cle...</td>\n",
       "    </tr>\n",
       "    <tr>\n",
       "      <th>4</th>\n",
       "      <td>the silhouette and length of this skirt and le...</td>\n",
       "      <td>Bottoms</td>\n",
       "      <td>[the, silhouette, and, length, of, this, skirt...</td>\n",
       "      <td>[silhouette, length, skirt, length, flattering...</td>\n",
       "      <td>silhouette length skirt length flattering clas...</td>\n",
       "    </tr>\n",
       "  </tbody>\n",
       "</table>\n",
       "</div>"
      ],
      "text/plain": [
       "                                      product_review product_category  \\\n",
       "0  i love love love this jumpsuit its fun flirty ...          Bottoms   \n",
       "1  beautifully made pants and on trend with the f...          Bottoms   \n",
       "2  i never would have given these pants a second ...          Bottoms   \n",
       "3  these pants are even better in person the only...          Bottoms   \n",
       "4  the silhouette and length of this skirt and le...          Bottoms   \n",
       "\n",
       "                            product_review_tokenized  \\\n",
       "0  [i, love, love, love, this, jumpsuit, its, fun...   \n",
       "1  [beautifully, made, pants, and, on, trend, wit...   \n",
       "2  [i, never, would, have, given, these, pants, a...   \n",
       "3  [these, pants, are, even, better, in, person, ...   \n",
       "4  [the, silhouette, and, length, of, this, skirt...   \n",
       "\n",
       "                                      cleaned_tokens  \\\n",
       "0  [love, love, love, jumpsuit, fun, flirty, fabu...   \n",
       "1  [beautifully, made, pants, trend, flared, crop...   \n",
       "2  [never, would, given, pants, second, look, onl...   \n",
       "3  [pants, even, better, person, downside, need, ...   \n",
       "4  [silhouette, length, skirt, length, flattering...   \n",
       "\n",
       "                              product_review_cleaned  \n",
       "0  love love love jumpsuit fun flirty fabulous ti...  \n",
       "1  beautifully made pants trend flared crop much ...  \n",
       "2  never would given pants second look online per...  \n",
       "3  pants even better person downside need dry cle...  \n",
       "4  silhouette length skirt length flattering clas...  "
      ]
     },
     "execution_count": 50,
     "metadata": {},
     "output_type": "execute_result"
    }
   ],
   "source": [
    "data.head()"
   ]
  },
  {
   "cell_type": "markdown",
   "id": "63838518",
   "metadata": {},
   "source": [
    "### Part of Speech Tagging\n",
    "\n",
    "\n",
    "<b>Part of Speech:</b> The grammatical role of a word in a sentence. A part of speech is one of the nine types of English words: VERB, NOUN, ADJECTIVE, ADVERB, PRONOUN, PREPOSITION, DETERMINER, CONJUNCTION, INTERJECTION."
   ]
  },
  {
   "cell_type": "code",
   "execution_count": 51,
   "id": "8e174ab6",
   "metadata": {},
   "outputs": [
    {
     "data": {
      "text/plain": [
       "'i love love love this jumpsuit its fun flirty and fabulous every time i wear it i get nothing but great compliments'"
      ]
     },
     "execution_count": 51,
     "metadata": {},
     "output_type": "execute_result"
    }
   ],
   "source": [
    "data.product_review[0]"
   ]
  },
  {
   "cell_type": "code",
   "execution_count": 55,
   "id": "589b46df",
   "metadata": {},
   "outputs": [
    {
     "name": "stdout",
     "output_type": "stream",
     "text": [
      "$: dollar\n",
      "    $ -$ --$ A$ C$ HK$ M$ NZ$ S$ U.S.$ US$\n",
      "'': closing quotation mark\n",
      "    ' ''\n",
      "(: opening parenthesis\n",
      "    ( [ {\n",
      "): closing parenthesis\n",
      "    ) ] }\n",
      ",: comma\n",
      "    ,\n",
      "--: dash\n",
      "    --\n",
      ".: sentence terminator\n",
      "    . ! ?\n",
      ":: colon or ellipsis\n",
      "    : ; ...\n",
      "CC: conjunction, coordinating\n",
      "    & 'n and both but either et for less minus neither nor or plus so\n",
      "    therefore times v. versus vs. whether yet\n",
      "CD: numeral, cardinal\n",
      "    mid-1890 nine-thirty forty-two one-tenth ten million 0.5 one forty-\n",
      "    seven 1987 twenty '79 zero two 78-degrees eighty-four IX '60s .025\n",
      "    fifteen 271,124 dozen quintillion DM2,000 ...\n",
      "DT: determiner\n",
      "    all an another any both del each either every half la many much nary\n",
      "    neither no some such that the them these this those\n",
      "EX: existential there\n",
      "    there\n",
      "FW: foreign word\n",
      "    gemeinschaft hund ich jeux habeas Haementeria Herr K'ang-si vous\n",
      "    lutihaw alai je jour objets salutaris fille quibusdam pas trop Monte\n",
      "    terram fiche oui corporis ...\n",
      "IN: preposition or conjunction, subordinating\n",
      "    astride among uppon whether out inside pro despite on by throughout\n",
      "    below within for towards near behind atop around if like until below\n",
      "    next into if beside ...\n",
      "JJ: adjective or numeral, ordinal\n",
      "    third ill-mannered pre-war regrettable oiled calamitous first separable\n",
      "    ectoplasmic battery-powered participatory fourth still-to-be-named\n",
      "    multilingual multi-disciplinary ...\n",
      "JJR: adjective, comparative\n",
      "    bleaker braver breezier briefer brighter brisker broader bumper busier\n",
      "    calmer cheaper choosier cleaner clearer closer colder commoner costlier\n",
      "    cozier creamier crunchier cuter ...\n",
      "JJS: adjective, superlative\n",
      "    calmest cheapest choicest classiest cleanest clearest closest commonest\n",
      "    corniest costliest crassest creepiest crudest cutest darkest deadliest\n",
      "    dearest deepest densest dinkiest ...\n",
      "LS: list item marker\n",
      "    A A. B B. C C. D E F First G H I J K One SP-44001 SP-44002 SP-44005\n",
      "    SP-44007 Second Third Three Two * a b c d first five four one six three\n",
      "    two\n",
      "MD: modal auxiliary\n",
      "    can cannot could couldn't dare may might must need ought shall should\n",
      "    shouldn't will would\n",
      "NN: noun, common, singular or mass\n",
      "    common-carrier cabbage knuckle-duster Casino afghan shed thermostat\n",
      "    investment slide humour falloff slick wind hyena override subhumanity\n",
      "    machinist ...\n",
      "NNP: noun, proper, singular\n",
      "    Motown Venneboerger Czestochwa Ranzer Conchita Trumplane Christos\n",
      "    Oceanside Escobar Kreisler Sawyer Cougar Yvette Ervin ODI Darryl CTCA\n",
      "    Shannon A.K.C. Meltex Liverpool ...\n",
      "NNPS: noun, proper, plural\n",
      "    Americans Americas Amharas Amityvilles Amusements Anarcho-Syndicalists\n",
      "    Andalusians Andes Andruses Angels Animals Anthony Antilles Antiques\n",
      "    Apache Apaches Apocrypha ...\n",
      "NNS: noun, common, plural\n",
      "    undergraduates scotches bric-a-brac products bodyguards facets coasts\n",
      "    divestitures storehouses designs clubs fragrances averages\n",
      "    subjectivists apprehensions muses factory-jobs ...\n",
      "PDT: pre-determiner\n",
      "    all both half many quite such sure this\n",
      "POS: genitive marker\n",
      "    ' 's\n",
      "PRP: pronoun, personal\n",
      "    hers herself him himself hisself it itself me myself one oneself ours\n",
      "    ourselves ownself self she thee theirs them themselves they thou thy us\n",
      "PRP$: pronoun, possessive\n",
      "    her his mine my our ours their thy your\n",
      "RB: adverb\n",
      "    occasionally unabatingly maddeningly adventurously professedly\n",
      "    stirringly prominently technologically magisterially predominately\n",
      "    swiftly fiscally pitilessly ...\n",
      "RBR: adverb, comparative\n",
      "    further gloomier grander graver greater grimmer harder harsher\n",
      "    healthier heavier higher however larger later leaner lengthier less-\n",
      "    perfectly lesser lonelier longer louder lower more ...\n",
      "RBS: adverb, superlative\n",
      "    best biggest bluntest earliest farthest first furthest hardest\n",
      "    heartiest highest largest least less most nearest second tightest worst\n",
      "RP: particle\n",
      "    aboard about across along apart around aside at away back before behind\n",
      "    by crop down ever fast for forth from go high i.e. in into just later\n",
      "    low more off on open out over per pie raising start teeth that through\n",
      "    under unto up up-pp upon whole with you\n",
      "SYM: symbol\n",
      "    % & ' '' ''. ) ). * + ,. < = > @ A[fj] U.S U.S.S.R * ** ***\n",
      "TO: \"to\" as preposition or infinitive marker\n",
      "    to\n",
      "UH: interjection\n",
      "    Goodbye Goody Gosh Wow Jeepers Jee-sus Hubba Hey Kee-reist Oops amen\n",
      "    huh howdy uh dammit whammo shucks heck anyways whodunnit honey golly\n",
      "    man baby diddle hush sonuvabitch ...\n",
      "VB: verb, base form\n",
      "    ask assemble assess assign assume atone attention avoid bake balkanize\n",
      "    bank begin behold believe bend benefit bevel beware bless boil bomb\n",
      "    boost brace break bring broil brush build ...\n",
      "VBD: verb, past tense\n",
      "    dipped pleaded swiped regummed soaked tidied convened halted registered\n",
      "    cushioned exacted snubbed strode aimed adopted belied figgered\n",
      "    speculated wore appreciated contemplated ...\n",
      "VBG: verb, present participle or gerund\n",
      "    telegraphing stirring focusing angering judging stalling lactating\n",
      "    hankerin' alleging veering capping approaching traveling besieging\n",
      "    encrypting interrupting erasing wincing ...\n",
      "VBN: verb, past participle\n",
      "    multihulled dilapidated aerosolized chaired languished panelized used\n",
      "    experimented flourished imitated reunifed factored condensed sheared\n",
      "    unsettled primed dubbed desired ...\n",
      "VBP: verb, present tense, not 3rd person singular\n",
      "    predominate wrap resort sue twist spill cure lengthen brush terminate\n",
      "    appear tend stray glisten obtain comprise detest tease attract\n",
      "    emphasize mold postpone sever return wag ...\n",
      "VBZ: verb, present tense, 3rd person singular\n",
      "    bases reconstructs marks mixes displeases seals carps weaves snatches\n",
      "    slumps stretches authorizes smolders pictures emerges stockpiles\n",
      "    seduces fizzes uses bolsters slaps speaks pleads ...\n",
      "WDT: WH-determiner\n",
      "    that what whatever which whichever\n",
      "WP: WH-pronoun\n",
      "    that what whatever whatsoever which who whom whosoever\n",
      "WP$: WH-pronoun, possessive\n",
      "    whose\n",
      "WRB: Wh-adverb\n",
      "    how however whence whenever where whereby whereever wherein whereof why\n",
      "``: opening quotation mark\n",
      "    ` ``\n"
     ]
    },
    {
     "name": "stderr",
     "output_type": "stream",
     "text": [
      "[nltk_data] Downloading package tagsets to /home/jovyan/nltk_data...\n",
      "[nltk_data]   Unzipping help/tagsets.zip.\n"
     ]
    }
   ],
   "source": [
    "nltk.download('tagsets')\n",
    "nltk.help.upenn_tagset()"
   ]
  },
  {
   "cell_type": "code",
   "execution_count": 54,
   "id": "00017688",
   "metadata": {},
   "outputs": [
    {
     "data": {
      "text/plain": [
       "[('i', 'NN'),\n",
       " ('love', 'VBP'),\n",
       " ('love', 'NN'),\n",
       " ('love', 'NN'),\n",
       " ('this', 'DT'),\n",
       " ('jumpsuit', 'NN'),\n",
       " ('its', 'PRP$'),\n",
       " ('fun', 'NN'),\n",
       " ('flirty', 'NN'),\n",
       " ('and', 'CC'),\n",
       " ('fabulous', 'JJ'),\n",
       " ('every', 'DT'),\n",
       " ('time', 'NN'),\n",
       " ('i', 'NN'),\n",
       " ('wear', 'VBP'),\n",
       " ('it', 'PRP'),\n",
       " ('i', 'JJ'),\n",
       " ('get', 'VBP'),\n",
       " ('nothing', 'NN'),\n",
       " ('but', 'CC'),\n",
       " ('great', 'JJ'),\n",
       " ('compliments', 'NNS')]"
      ]
     },
     "execution_count": 54,
     "metadata": {},
     "output_type": "execute_result"
    }
   ],
   "source": [
    "nltk.pos_tag(data.product_review_tokenized[0])"
   ]
  },
  {
   "cell_type": "markdown",
   "id": "70eea700",
   "metadata": {},
   "source": [
    "Let's use the POS-tagger to assign part of speech to all the tokens of all of the reviews"
   ]
  },
  {
   "cell_type": "code",
   "execution_count": 56,
   "id": "15f028a2",
   "metadata": {},
   "outputs": [
    {
     "data": {
      "text/html": [
       "<div>\n",
       "<style scoped>\n",
       "    .dataframe tbody tr th:only-of-type {\n",
       "        vertical-align: middle;\n",
       "    }\n",
       "\n",
       "    .dataframe tbody tr th {\n",
       "        vertical-align: top;\n",
       "    }\n",
       "\n",
       "    .dataframe thead th {\n",
       "        text-align: right;\n",
       "    }\n",
       "</style>\n",
       "<table border=\"1\" class=\"dataframe\">\n",
       "  <thead>\n",
       "    <tr style=\"text-align: right;\">\n",
       "      <th></th>\n",
       "      <th>product_review</th>\n",
       "      <th>product_category</th>\n",
       "      <th>product_review_tokenized</th>\n",
       "      <th>cleaned_tokens</th>\n",
       "      <th>product_review_cleaned</th>\n",
       "      <th>POS_tokens</th>\n",
       "    </tr>\n",
       "  </thead>\n",
       "  <tbody>\n",
       "    <tr>\n",
       "      <th>0</th>\n",
       "      <td>i love love love this jumpsuit its fun flirty ...</td>\n",
       "      <td>Bottoms</td>\n",
       "      <td>[i, love, love, love, this, jumpsuit, its, fun...</td>\n",
       "      <td>[love, love, love, jumpsuit, fun, flirty, fabu...</td>\n",
       "      <td>love love love jumpsuit fun flirty fabulous ti...</td>\n",
       "      <td>[(i, NN), (love, VBP), (love, NN), (love, NN),...</td>\n",
       "    </tr>\n",
       "    <tr>\n",
       "      <th>1</th>\n",
       "      <td>beautifully made pants and on trend with the f...</td>\n",
       "      <td>Bottoms</td>\n",
       "      <td>[beautifully, made, pants, and, on, trend, wit...</td>\n",
       "      <td>[beautifully, made, pants, trend, flared, crop...</td>\n",
       "      <td>beautifully made pants trend flared crop much ...</td>\n",
       "      <td>[(beautifully, RB), (made, VBN), (pants, NNS),...</td>\n",
       "    </tr>\n",
       "    <tr>\n",
       "      <th>2</th>\n",
       "      <td>i never would have given these pants a second ...</td>\n",
       "      <td>Bottoms</td>\n",
       "      <td>[i, never, would, have, given, these, pants, a...</td>\n",
       "      <td>[never, would, given, pants, second, look, onl...</td>\n",
       "      <td>never would given pants second look online per...</td>\n",
       "      <td>[(i, NN), (never, RB), (would, MD), (have, VB)...</td>\n",
       "    </tr>\n",
       "    <tr>\n",
       "      <th>3</th>\n",
       "      <td>these pants are even better in person the only...</td>\n",
       "      <td>Bottoms</td>\n",
       "      <td>[these, pants, are, even, better, in, person, ...</td>\n",
       "      <td>[pants, even, better, person, downside, need, ...</td>\n",
       "      <td>pants even better person downside need dry cle...</td>\n",
       "      <td>[(these, DT), (pants, NNS), (are, VBP), (even,...</td>\n",
       "    </tr>\n",
       "    <tr>\n",
       "      <th>4</th>\n",
       "      <td>the silhouette and length of this skirt and le...</td>\n",
       "      <td>Bottoms</td>\n",
       "      <td>[the, silhouette, and, length, of, this, skirt...</td>\n",
       "      <td>[silhouette, length, skirt, length, flattering...</td>\n",
       "      <td>silhouette length skirt length flattering clas...</td>\n",
       "      <td>[(the, DT), (silhouette, NN), (and, CC), (leng...</td>\n",
       "    </tr>\n",
       "  </tbody>\n",
       "</table>\n",
       "</div>"
      ],
      "text/plain": [
       "                                      product_review product_category  \\\n",
       "0  i love love love this jumpsuit its fun flirty ...          Bottoms   \n",
       "1  beautifully made pants and on trend with the f...          Bottoms   \n",
       "2  i never would have given these pants a second ...          Bottoms   \n",
       "3  these pants are even better in person the only...          Bottoms   \n",
       "4  the silhouette and length of this skirt and le...          Bottoms   \n",
       "\n",
       "                            product_review_tokenized  \\\n",
       "0  [i, love, love, love, this, jumpsuit, its, fun...   \n",
       "1  [beautifully, made, pants, and, on, trend, wit...   \n",
       "2  [i, never, would, have, given, these, pants, a...   \n",
       "3  [these, pants, are, even, better, in, person, ...   \n",
       "4  [the, silhouette, and, length, of, this, skirt...   \n",
       "\n",
       "                                      cleaned_tokens  \\\n",
       "0  [love, love, love, jumpsuit, fun, flirty, fabu...   \n",
       "1  [beautifully, made, pants, trend, flared, crop...   \n",
       "2  [never, would, given, pants, second, look, onl...   \n",
       "3  [pants, even, better, person, downside, need, ...   \n",
       "4  [silhouette, length, skirt, length, flattering...   \n",
       "\n",
       "                              product_review_cleaned  \\\n",
       "0  love love love jumpsuit fun flirty fabulous ti...   \n",
       "1  beautifully made pants trend flared crop much ...   \n",
       "2  never would given pants second look online per...   \n",
       "3  pants even better person downside need dry cle...   \n",
       "4  silhouette length skirt length flattering clas...   \n",
       "\n",
       "                                          POS_tokens  \n",
       "0  [(i, NN), (love, VBP), (love, NN), (love, NN),...  \n",
       "1  [(beautifully, RB), (made, VBN), (pants, NNS),...  \n",
       "2  [(i, NN), (never, RB), (would, MD), (have, VB)...  \n",
       "3  [(these, DT), (pants, NNS), (are, VBP), (even,...  \n",
       "4  [(the, DT), (silhouette, NN), (and, CC), (leng...  "
      ]
     },
     "execution_count": 56,
     "metadata": {},
     "output_type": "execute_result"
    }
   ],
   "source": [
    "data['POS_tokens'] = data.product_review_tokenized.apply(nltk.pos_tag)\n",
    "data.head()"
   ]
  },
  {
   "cell_type": "markdown",
   "id": "3394e78b",
   "metadata": {},
   "source": [
    "Let's extract the adjectives used in each review"
   ]
  },
  {
   "cell_type": "code",
   "execution_count": 66,
   "id": "273d5424",
   "metadata": {},
   "outputs": [
    {
     "data": {
      "text/html": [
       "<div>\n",
       "<style scoped>\n",
       "    .dataframe tbody tr th:only-of-type {\n",
       "        vertical-align: middle;\n",
       "    }\n",
       "\n",
       "    .dataframe tbody tr th {\n",
       "        vertical-align: top;\n",
       "    }\n",
       "\n",
       "    .dataframe thead th {\n",
       "        text-align: right;\n",
       "    }\n",
       "</style>\n",
       "<table border=\"1\" class=\"dataframe\">\n",
       "  <thead>\n",
       "    <tr style=\"text-align: right;\">\n",
       "      <th></th>\n",
       "      <th>product_review</th>\n",
       "      <th>product_category</th>\n",
       "      <th>product_review_tokenized</th>\n",
       "      <th>cleaned_tokens</th>\n",
       "      <th>product_review_cleaned</th>\n",
       "      <th>POS_tokens</th>\n",
       "      <th>adjectves</th>\n",
       "      <th>adjectives</th>\n",
       "    </tr>\n",
       "  </thead>\n",
       "  <tbody>\n",
       "    <tr>\n",
       "      <th>0</th>\n",
       "      <td>i love love love this jumpsuit its fun flirty ...</td>\n",
       "      <td>Bottoms</td>\n",
       "      <td>[i, love, love, love, this, jumpsuit, its, fun...</td>\n",
       "      <td>[love, love, love, jumpsuit, fun, flirty, fabu...</td>\n",
       "      <td>love love love jumpsuit fun flirty fabulous ti...</td>\n",
       "      <td>[(i, NN), (love, VBP), (love, NN), (love, NN),...</td>\n",
       "      <td>[fabulous, i, great]</td>\n",
       "      <td>[fabulous, i, great]</td>\n",
       "    </tr>\n",
       "    <tr>\n",
       "      <th>1</th>\n",
       "      <td>beautifully made pants and on trend with the f...</td>\n",
       "      <td>Bottoms</td>\n",
       "      <td>[beautifully, made, pants, and, on, trend, wit...</td>\n",
       "      <td>[beautifully, made, pants, trend, flared, crop...</td>\n",
       "      <td>beautifully made pants trend flared crop much ...</td>\n",
       "      <td>[(beautifully, RB), (made, VBN), (pants, NNS),...</td>\n",
       "      <td>[flared, much]</td>\n",
       "      <td>[flared, much]</td>\n",
       "    </tr>\n",
       "    <tr>\n",
       "      <th>2</th>\n",
       "      <td>i never would have given these pants a second ...</td>\n",
       "      <td>Bottoms</td>\n",
       "      <td>[i, never, would, have, given, these, pants, a...</td>\n",
       "      <td>[never, would, given, pants, second, look, onl...</td>\n",
       "      <td>never would given pants second look online per...</td>\n",
       "      <td>[(i, NN), (never, RB), (would, MD), (have, VB)...</td>\n",
       "      <td>[second, much, cuter, right, small, loose, navy]</td>\n",
       "      <td>[second, much, cuter, right, small, loose, navy]</td>\n",
       "    </tr>\n",
       "    <tr>\n",
       "      <th>3</th>\n",
       "      <td>these pants are even better in person the only...</td>\n",
       "      <td>Bottoms</td>\n",
       "      <td>[these, pants, are, even, better, in, person, ...</td>\n",
       "      <td>[pants, even, better, person, downside, need, ...</td>\n",
       "      <td>pants even better person downside need dry cle...</td>\n",
       "      <td>[(these, DT), (pants, NNS), (are, VBP), (even,...</td>\n",
       "      <td>[only, dry]</td>\n",
       "      <td>[only, dry]</td>\n",
       "    </tr>\n",
       "    <tr>\n",
       "      <th>4</th>\n",
       "      <td>the silhouette and length of this skirt and le...</td>\n",
       "      <td>Bottoms</td>\n",
       "      <td>[the, silhouette, and, length, of, this, skirt...</td>\n",
       "      <td>[silhouette, length, skirt, length, flattering...</td>\n",
       "      <td>silhouette length skirt length flattering clas...</td>\n",
       "      <td>[(the, DT), (silhouette, NN), (and, CC), (leng...</td>\n",
       "      <td>[classic, comfortable, favorite, different, hi...</td>\n",
       "      <td>[classic, comfortable, favorite, different, hi...</td>\n",
       "    </tr>\n",
       "  </tbody>\n",
       "</table>\n",
       "</div>"
      ],
      "text/plain": [
       "                                      product_review product_category  \\\n",
       "0  i love love love this jumpsuit its fun flirty ...          Bottoms   \n",
       "1  beautifully made pants and on trend with the f...          Bottoms   \n",
       "2  i never would have given these pants a second ...          Bottoms   \n",
       "3  these pants are even better in person the only...          Bottoms   \n",
       "4  the silhouette and length of this skirt and le...          Bottoms   \n",
       "\n",
       "                            product_review_tokenized  \\\n",
       "0  [i, love, love, love, this, jumpsuit, its, fun...   \n",
       "1  [beautifully, made, pants, and, on, trend, wit...   \n",
       "2  [i, never, would, have, given, these, pants, a...   \n",
       "3  [these, pants, are, even, better, in, person, ...   \n",
       "4  [the, silhouette, and, length, of, this, skirt...   \n",
       "\n",
       "                                      cleaned_tokens  \\\n",
       "0  [love, love, love, jumpsuit, fun, flirty, fabu...   \n",
       "1  [beautifully, made, pants, trend, flared, crop...   \n",
       "2  [never, would, given, pants, second, look, onl...   \n",
       "3  [pants, even, better, person, downside, need, ...   \n",
       "4  [silhouette, length, skirt, length, flattering...   \n",
       "\n",
       "                              product_review_cleaned  \\\n",
       "0  love love love jumpsuit fun flirty fabulous ti...   \n",
       "1  beautifully made pants trend flared crop much ...   \n",
       "2  never would given pants second look online per...   \n",
       "3  pants even better person downside need dry cle...   \n",
       "4  silhouette length skirt length flattering clas...   \n",
       "\n",
       "                                          POS_tokens  \\\n",
       "0  [(i, NN), (love, VBP), (love, NN), (love, NN),...   \n",
       "1  [(beautifully, RB), (made, VBN), (pants, NNS),...   \n",
       "2  [(i, NN), (never, RB), (would, MD), (have, VB)...   \n",
       "3  [(these, DT), (pants, NNS), (are, VBP), (even,...   \n",
       "4  [(the, DT), (silhouette, NN), (and, CC), (leng...   \n",
       "\n",
       "                                           adjectves  \\\n",
       "0                               [fabulous, i, great]   \n",
       "1                                     [flared, much]   \n",
       "2   [second, much, cuter, right, small, loose, navy]   \n",
       "3                                        [only, dry]   \n",
       "4  [classic, comfortable, favorite, different, hi...   \n",
       "\n",
       "                                          adjectives  \n",
       "0                               [fabulous, i, great]  \n",
       "1                                     [flared, much]  \n",
       "2   [second, much, cuter, right, small, loose, navy]  \n",
       "3                                        [only, dry]  \n",
       "4  [classic, comfortable, favorite, different, hi...  "
      ]
     },
     "execution_count": 66,
     "metadata": {},
     "output_type": "execute_result"
    }
   ],
   "source": [
    "def extarct_adj(tokens):\n",
    "    adjectives = []\n",
    "    for x in tokens:\n",
    "        if x[1] in ['JJ', 'JJR', 'JJS']:\n",
    "            adjectives.append(x[0])\n",
    "    return adjectives\n",
    "\n",
    "data['adjectives'] = data.POS_tokens.apply(extarct_adj)\n",
    "data.head()"
   ]
  },
  {
   "cell_type": "markdown",
   "id": "db8e8adf",
   "metadata": {},
   "source": [
    "Let's combine all the `adjectives` for the `Tops`."
   ]
  },
  {
   "cell_type": "code",
   "execution_count": 67,
   "id": "c2bc3e3c",
   "metadata": {
    "scrolled": true
   },
   "outputs": [
    {
     "data": {
      "text/plain": [
       "'flattering due adjustable perfect cardigan last i pale gorgeous little hte ejans i glad i white crisp clean i great perfect wear cant wrong wasnt seethrough white careful i great comfy classic quirky beautiful practical cropped boxy perfect longer camisole little thin small gorgeous unsnapped skinny true great casual flare grey back nice beautiful ordinary usual tight chest i cute plaid great local comfortable bad little dressier small black top comfortable comfortable good perfect roomy warm cute collar beautiful unique busty top small wouldve fit better adorable bib favorite small perfect soft comfortable unusual asymmetrical front visual little ive adorable i comfortable feminine great dark perfect wish happy comfortable flattering comfortable light top lovely floral great white top happy top online little i little large petite longer regular perfect give soft comfortable short much uncomfortable doesnt easier navy boxy whole cute more fabric i super read same specific petite weigh small perfect luxurious casual everyday little long little tight top great comfortable unique soft last wonderful greenish unique beautiful i great worn different great only petite touch big much real short i modern large normal top pleased elegant casual overall overall various mosswhich greenish more green fantastic stunning white nicelya big i great unique lovely quotskyquot teal blue luxurious sassy i numerous true small slightest tight first small i small top true generous top nice comfy casual small hh true broad perfect inside unexpected more true stressed current perfect cute little wonderful different previous larger glad i beautiful super casual more stylish average white long perfect many many easy hot humid easy many casual reversible appropriate great much other scratchy sensitive perfect mild light fitted bottom other cute comfortable true small roomy narrow top perfect different comfortable tunic curvy few extra perfect good negative gorgeous deeper true i large fitted top green super petite long little lost much second i different bare i hot right metallic little large ive current ive top feminine small swing fabric soft im more neutral white many white cute greatest fabulous i sure favorite other great nice ultra skinny pregnant wrong feminine light cami great white perfect warmer casual big such big flattering great gorgeous top nice soft i full loose pretty straight soft other white flattering other several flattering easy dressy soft comfortable adorable cute navy ok much adorable im big odd few new favorite top tunic other delicate open upper feminine light hot able appropriate most extraordinary least pretty nice big perfect subtle petite usual narrower ok athletic great cant wrong great usual smaller generous little beautiful i anxious smaller little longer little shorter tts little biggest nice comfortable casual i super natural tunic little large top perfect small extra small forth i top regular small longer much low white unique skinny ankle stylish super soft sure looser large top cute great many blue soft little shorter i prettier im athletic little small i fitted great stylish comfortable top large great pretty top full shorter softer true i usual sleeve true favorite perfect first many comfy sloppy many favorite other nice i live i larger tough i right much top great top much nice tight light ive gotten several different pretty deep doesnt much top i true regular petite i short see nude perfect comfortable easy i similar flattering great blue happy short usual beautiful printed small perfect smaller popular due hot soft warm outside i favorite great awesome soft positive previous worth full little small perfect great sleeve right beautiful polka sweet pretty long unique thin beautiful small busted i smaller usual full full small much ample regular full better little shorter i top dont interesting top closer overall lightweight due soft easy great blue gorgeous interesting short happy thick thick short special black i silky beautiful many enormous bottom white flattering much online chic stylish great chillier plain short long sleeved more elaborate many gorgeous sleeve unfinished frayed noticeable unique gold sticky sticky humid sticky sticky wasnt sure top glad print great denim loose top little short true small beautiful gold i top nice soft good basic many sure top enough top nice petite regular good busy same soft soft soft small black cropped bottom quality small flowy short comfortable feminine beautiful fit favorite new red gorgeous large ethereal pretty same composed hottest super soft black short petite great outfit oversized small black many charlie flat great casual visual blackwhite great casual curvy special navy stripe cute nautical boxy unimpressive i cute clingy comfortable little sure bad tall long flattering i fantastic flowy i much romantic girly short right athletic rave true plush funky i im different great able only petite top glad short super boxy other local itchy small long oversized i i right larger i same smaller petite other petite few great super sure i wool cool skeptical first black white versatile interesting bright similar regular fine im super short thick white cute i navy vintage slinky great white large small mid more fun nice such great unique beautiful appropriate normal small more little tunic great beautiful soft warm perfect new little soft light worn casual nice soft comfortable beautiful accurate perfect extra casual elegant same adorable loose soft bottom clingy soft i happy black closed lace little much open cami comfortable whole little longer super awesome true normal small beautiful little higher sure similar beautiful top little extra usual great great skirt tts flattering comfortable nice true nice good great red black nice flattering much ive olive red black i enough black simple true fitted due unflattering close laceup most super immodest black fabric soft thick nice great super fat good black great super great i black first green greatnot cheap least cute beautiful colorful nice lightweight fine other wish i older more personal accurate lovely unique unique romantic sheer nude camisole small i normal special comfortable asis huge crazy fresh feminine flattering great denim happy soo cool good top nightworthy front embossed usual patterned nice vibrant nice i great little loose little elastic i perfect top mixed top special timewhen curatorial beautifullymade topquite dramatic comfortable ive many ive wonderful pretty new dark boho flattering top happy pretty different floral interesting unique comfortable due true fit great bohemian smaller larger only i larger asymmetrical new second other small top i tad i figure perfect beautiful coral mixed little large comfortable unique special favorite many beautiful soft bigger i black back great casual perfect little flattering black necessary larger usual great easy top sure great little long beautiful dressier skinny aesthetic gorgeous happy top soft cute super comfortable xs lovely pale complementary nice nice perfect adequate petite short flowy more swing cute due thin hard true top flattering nice nice darn soft top lower easy black creamy white top brownish yellow creamy white beautiful petite available beautiful unique sure fabulous bohochic sophisticated special elegant great beautiful more multiple tight r top super long due happy sweet flowy great yellow floral front narrow bra nude plastic big unique nice great little transitional blkblk floral usual top quirky i comfortable chilly top western black cute soft top great small comfortable great cardigan blazer super bright red perfect light little loose boxy bust overall regular short wear petite due other short regular happy comfortable top great skinny small tts slim length longer petite red thicker other cashmere stick much large shorter huge loose red i little flat sure i gorgeous i amazing unique top light white beautiful red large high fabulous top top comfortable true classy unique pretty many girlie fun shorter short long beautiful large large nice basic pale prettier i great denim olive green white comfy casual front different smaller white different perfect little softer heavier pretty lightweight comfy stylish indigoblue nice different narrow fine true small other same many i slight straight rough casual last sure itchy great great short long standard huge perfect i flowy best shorter more little boxy petite best similar exact much i black super only slight negative i neckline worth giant many perfect saturday great fit elastic soft great ish fit great washed more white i cute first many comfortable expensive adorable flattering white much ft little favorite much i white good different great favorite dark white able nude cute little pictured small same pictured fabric super grey top white brown pretty didnt big generous great feeling fashionable essential soft warm fashionable acrylicnylonwool functional disagree other small short true itchy i basic neckline soft comfortable white blue additional overall comfy nice neutral i overall small different wearable white opted i available waisted short i regular big flattering chest v classic great black nude black white pricey beautiful soft itchy important vibrant bright i small perfect shapeless mild better pic nice nice glad many perfect cool warm excellent top tall tunic shorter pattern soft fabric nice comfortable casual adorable effortless chic close nice endless comfortable cute top true great snuglooked fine i little bust better top nude inappropriate beautiful fashionable good viscose pretty feminine great great true local i top pretty im curvy true slight only beautiful tunic short worn soft flattering different similar exquisite longer prettier special small medium i small much large closer skinny top great i many many great such great little more black shirt little same top black skinny black lighter im i ok extra worn petite i i general perfect perfect casual skinny long black pale i basic great comfortable black little good usual great great skinny small short wide small little short great great lightweight skinny white first much light blue amazing long back comfortable loose cardigan pretty red black boxy spectacular raw nice casual white black comfortable flattering many like perfect nice beautiful i front usual small red cardigan cute larger front right perfect short boxy waist perfect roomy long nice great perfect comfortable pictured ive highlow local instant usual small fit perfect winter red more soft belly nautical im ive denim black soft red soft unsure small great richer vibrant unique i small little small i looser flattering great interesting true great soft i lucky i full fabulous wear layer coral wonderful vibrant fit old professional great i dark gorgeous beautiful coral small tight able thick coral beautiful excellent great new cant coral new perfect beautiful fit great i small extra small flattering i green most soft casual outside most little worth fabulous i cozy delicious hot breathable green black friday wish beautiful great i ft beautiful comfy bulky boiled rich deep green great great warm northern short wool classy festive green normal due positive soft boiled green deep incredible black magical roomy tricky defined comfortable soft worth light good i full favorite green much coral i large perfect wonderful gray black great animal online attractive attractive unbuttoned boiled light softer boiled light ill able november im boiled warm high beloved ive last thin perfect perfect lovely green many perfect im petite small natural door several pleased roomy large boxy fluffy luxurious terrific i itclassic fancy favorite new super soft comfortable little large cozy collar oversized lightweight fast black i main scarf cute full wonderful coral beautiful stylish green weigh more heavier classic lightweight squishy soft deep simple practical nice local fabulous coral divine short small large heavier normal great great great green great i itd great structured smaller i large beautiful first boxy flattering particular more unexpected big giant new puppy perfect late easy coral i xs green super rich perfect easy i super afraid favorite large more snug great glad beautiful soft sure top available blue beautiful soft only heavy great conspicuous feminine classic tunic black full dont flowy large pretty soft beautiful blue small first beautiful i green itchy comfortable coral such great top good i south lightweight long long great fit true purple petite soft unique cant regular overall same beautiful much straight several nice soft comfortable versatile blue top i unique great late summerearly pleated upper flattering top perfect heavy great large pleased heavy substantial thread fine heavy overall small other soft reasonable much coral flowy many top perfect huge other able chinos i true petite blue subtle great paired blue straight blue local linen acrylic large due beautiful bottomheavy colored extra soooo super large smaller usual generous i top small i tall busty top leather short picky happy heavy fantastic local beautiful heftier different gorgeous amazing perfect regular small tts i blousy top excellent i dark gray more rich exotic perfect soft red beautiful tts top such great classy comfortable same pricey great light green long different i red rich vibrant i true soft comfortable right versatile many more i great washable i dry romantic comfortable great high high somewhat i everyday cute true nice beautiful high nice older small little longer perfect busty ivory top true petite small regular little short shorter surprised soft top i little bigger small little perfect superb i usual perfect cool bright yellow yellow green real pretty other several much ive soft comfortable gorgeous blue sm small larger glad easy wide sheer solid lovely heavy bright top snug noticeable uncomfortable aware blue wet top front cute right unusual armhole available great lightweight friendly white small fine small beautiful tan thin sure enough i small cute tall recommend gorgeous green warm best flattering i fun tunic great beautiful soft easy current true regular pronounced much floral perfect sleeve perfect thin perfect easy breezy stylish busy beautiful i blue floral easy white full large i usual s xs tight perfect happy easy loose small small regular xs top top tight yellow white navy good cold i usual i roomy better im happy top more comfortable cute other yellowfloral true comfortable floral same nice top large many top thin i small top small top flattering hippy great white black great black flip baggy super top white i cami xs wish top small top weigh lbs small i most normal black dark black least receive everytime great skinny great looser white blue great adorable only little big easy top great perfect comfortable big usual adorable great great sure top many large flowy short little big green vibrant light beautiful true black local top vibrant gorgeous small extra small tad petite nice extra true great top adorable great larger more available many next sad swingy better top fun little hard thin more silky cool online fun edgy larger i other able mine cute unique usual soft casual such cute more s longer top much large nice flowy slim top flattering soft much thick such adorable super i loose long large comfortable great top cant kimono great i better great cant poncho more versatile detailed soft perfect deep flattering white great little gorgeous blue i many only i harder super super soft less great top great dark perfect soft big top gorgeous real beautiful great lightweight petite perfect belted happy lovely wear petite many right popular top beautiful unique blue white top billowy i top normal new curvy i large little large fabric comfortable more thin super soft thin hot humid neutral adorable jean big baggy beautiful cute unique blue washable major soft little different great loose fitting true beautiful feminine big lbs comfortable nice cute great impending fabulous casual pilcro yellow i happy own nice sun cervical sunny same i cheaper true soft summery beautiful stuff starched stretchy top small i true perfect diving cutsie easy little true need great little sleeve great largish more fitted great sturdy cheap i long certain more great fantastic unique rear ive super soft removable other tunic great skinny open i i s top super soft thin seethrough light cool hot humid nice gentle large cool i super hot local burgundy beautiful feminine other black available fine great soft comfortable blue i online beautiful special i small i perfect rich perfect printed eclectic i i large true im nice heavier soft such great flattering true loose i classic timeless versatile light gorgeous more happy awkward accidental top last olive green great quality comfortable top more professional i delicate i boxy soft nice comfortable stylish great great dark skinny turtle only double wish other top fancy flip regular i i long i fine thin i own warm cold i front little tired shorter navy comfortable great i large weigh large i unique i great first open most open sutble girl next sexy soft subtle plus regular relaxed beautiful leave top gorgeous remiss i short voluminous right perfect fulltime expensive much i bust chic lightweight last iso sure other boxy unflattering many top gray green gorgeous comfortable i navy great fabulous little vibrant black thin most larger top good petite regular able i short long wide biggest short normal acrylic warm enough colder nice comfortable lazy cool black bright hesitant oversized small xs great i large dark received long perfect heavy outstanding exceptional stylist open large previous soft easy teal more best perfect great many other cute great perfect loose flattering many black cute small usual little short regular wish til first good awesome blue short fine small top black great loose nice contrary other lowcut wear happy december hot soft cozy ready beautiful generous favorite luxurious i large long loose difficult top huge i i usual small unflattering happy top thankful top easy soft top nice nice perfect i lightweight perfect hot super soft nice great terrible worth lightweight perfect gorgeous best wish fluffy flattering ideal light nice simple chic effortless big creamy i available long great unique beautiful substantial woven small small glad i top small larger much short super voluminous good cute shorter nice overall good favorite ive great ti good sure fine short wide hwy large beautiful little crazy top comfortable soft nice small swingy beautiful beautiful great great little great white busty short usual back great special soft big length great skinny overall wonderful glad able more springsummer wide small perfect comfortable interesting great other great top fantastic bigger i last prettier petite i id top beautiful flowy comfortable uneckline i black small i small perfect classic rounded unique heavier better perfect thin great top comfortable super soft clingy polished little wide didnt boxy i nice glad soft comfy large boxy soooo soft short heavy large beautiful front boxy beautiful great breathable deep rich comfy top rust small pet perfect minor beautiful tts top i everyday few good dry least good great light multiple tad great comfortable previous cute black i white great skinny classic stylish blockingrich soft wear perfect i top difficult comfortable sloppy perfect tiny big most true great busty vibrant online light i true neutral first black unbuttoned good small best little upper i top deep coral comfy great i much much front saw local longer i other pilcro skinny i soft many helpful great first stiff soft lovely beautiful hot small upper i slight i offtheshoulder longer top great cute upper unique small top i open flattering red black top slimming hides top best perfect feels nice tiny i i flattering pear larger sheer nude little fancy versatile semicasual first natural second loose i little bigger i s fit great other best classic i appropriate individual white large top waist trim adorable fun cutesy previous small broad usual small small didnt hard related wide actual adorable grey modern small i i great right i cropped higher glad negative black red favorite i fine i small slim perfect comfortable appropriate ruffled surprised top expensive good flattering small top top fallwinterholiday top true tunic thin adorable subtle perfect neutral boxy i comfortable fine great skinny top other athletic m nice fit perfect upcoming light dark black great nice i flat little good new nice tight loose tight flattering nice soft great nice green large white white little more i other good basic full same red blue great happy stretchy great more easy glad soft great typical versatile interesting multiple first soft i i sure dark green white perfect such flattering nice right snug conservative provocative great basic great deep more cardigan beautiful same dark springy lower first tighter other fine beautiful heavy same old gorgeous perfect small pear similar few i thankful realistic small small tight torso much small small shirt much extra small classy beautiful favorable dressy casual glad gorgeous top large cute i beautiful navy easy interesting cozy comfortable stylish top simple great same large skinny i top flattering olive dark soft washedjean cool casual comfy great top adorable small i small roomy beautiful gorgeous linen white classic top beautiful true large fit longer i normal little amazing feminine good stunning true large white form tight large small i top baggy tasteful low sleeve black usedand great large able top vibrant soft light great top more i high soft narrow i little i small flattering other soft flattering perfect bad hte good nice i comfortable red rich subtle typical nice low personal tank great abstract floral understated romantic red beautiful rich red super soft comfy ive great im white waist i lightweight comfortable versatile casual dark dressy fun light red rich nervous top such excellent ridiculous able small other perfect much unique whole nice soft comfortable amazing able incredible peplum little perfect perfect high fabric soft tiny much other local first soft lightweight loose bra little v little top conservative upright last comfortable i wearable basic cute contemporary favorite loose flattering red deep red loose mid open fluffy small regular closer true usual smaller fabric higher personal great christmas much cute deep red long large loose large typical pinkish beautiful better casual i sure perfect best wear versatile nice soft fabulous perfect external soft versatile great good comfortable great soft comfortable gorgeous burgundy i gorgeous large x large i large full adorable cuter additional flowy comfortable black long black super small little great better special little low same great soft best other only top nice newmommy perfect comfortable i top fit great beautiful nice expensive sure nice little boxy nice dark purple top perfect i comfortable cold warm dont same i black december small skinny skinny slimming soft soft comfortable great tall great i tight pregnant i great perfect other new favorite freaking soft back little added staple more perfect cute id true cant light excited next unique regular heavy good new favorite perfect heavy thin super skinny nice similar same super soft more tall long long small i single extra druzy puppy black new soft comfortable sure true simple soft basic perfect i i cami soft right great soft skinny brown comfortable casual black white other little extra softer flattering other same more new black favorite cutest ive soft true great other excellent great clingy long im longer decent tight black more great i super soft i more super same extra perfect im great sure super soft substantial comfortable i perfect much constant fabulous black white fun perfect casual cardigan ive longsleeve i ive usual perfect soft wrong perfect ill more top long only negative easy i same exclusive whimsical grey sleeve traditional modern cropped few many stray excellent heavier weight comfortable perfect i small nice higher more soft best basic ive long im lb perfect comfy worth top i comfortable i several i sturdy i i top ornate surprised thick highlights enough much awkward long skinny great old i little extra everyday t scalloped beautiful fit boxy i much great great i amazing such incredible total great skinny comfortable little long fabulous great weight sure top pleased first perfect different i full i full much beautiful im heavy long perfect small previous capedigan loose high thickness thick thin soft wear retailer quirkiness same versatile comfortable i small best fit overall perfect long top true little nice special top top great great top large most large other small worth cute own i nude i adorable lovely back dusky floral pretty tiered slimming casual right feminine yummiest i purple first multiple prior big i extra small usual small other small difficult red great skinny wide good flattering soft skinny narrow beautiful more swing romantic feminine beautiful top quite transparent reversible soft black slate gray contemporary professional dark blue great little short i great good black skinny top gorgeous top much high much thrilled flattering beautiful only minor hidden black more dark similar top soft i camisole im great stripe special beautiful dressy casual spectacular new wish other fantastic beautiful artsy i regular petite short rich fabulous i wide fitted wellstyled favorite true orangewhitebrownred great indra i green floral pattern unique ive different mesh several superb true unique back white cheap beautiful top gorgeous high i top large upper fine personal most youre thin able im sure happy such soft fitting structured casual i glad next easy open black long cute small definite soft good soft green regular boxy nice thin soft classy casual dressy i great great great older stylish little extra subtle i beautiful versatile sure im petite small xss anthto little extra cooler small petite cozy gorgeous soft beautiful unique beautiful large smaller beautiful better only pulled little disappointed top flattering dressy comfortable soft nice good subtle long petite i regular petite tall low top simple top special lightweight january stripe normal small smaller colorful great lightweight casual more more same large xs small generous boxy horizontal loose black tee small i nice versatile suitable dressier comfortable beautiful large small extra small small huge smaller sure better special thin perfect lower blousy straight longer petite much i green white narrow big perfect good laden green more better hard great lightweight gorgeous great usual small short i small i small i much short lighter florida mild gorgeous bigger im sure plastic much bigger wooden theyre nice overall right i little stiff stiff first fit navy cuter great cool professional perfect cute first tunic hesitant i beautiful previous high i other small beautiful dressing big i extra small sure unique many many best i beautiful extra top full much short boxy black pleased fabric heavy high high regular small id tts i happier special vintage miss major gorgeous regular little wide short i elbow small less boxy cant beautiful metallic elegant gatsby attracted i high tunic bad straighterslimmer more happy beautiful own beautiful special nice soft metallic back wonderful i usual fitted top snug happy online gorgeous light feminine soft beautiful velour other pleased true regular perfect great skinny right long dressy gorgeous chic tunic super soft good thick heavy huge i hot cant wear hot i beautiful high stretchy i tts blue cant soft stunning happy gorgeous nice flowy i cam white usual small cute casual i other more straight i more flared high little special basic curvy perfect classic white little large lbs broad cold fine light many shorter touch nice wider narrower additional perfect nice thin most white perfect impecable petite regular more pale coral more light great hot such cute top big sloppy itll cute black skinny classic soft thick nice straight small right problematic more chest back most top last slim other perfect high perfect soft right favorite nice subtle roomy white i such top i few i good wash top navy black perfect comfy adorable little special happy normal big i top soft perfect right slight i chest high showy top adorable favorite red skinny i true washable durable vibrant soft great cute romantic darker soft subtle right soft im large med ive many little shortwhich i top high afterward i much black white intact aggressive late second sexiness flowy comfortable easy ive casual versatile little soft drapey i id beautiful comfortable unique heavy perfect south perfect great workappropriate large large perfect i boxy lovely navy black thin last super long soft right petite black great soft warm white great top large bust distressed black real distressed asymmetric unusual short long great overall top larger adorable black local previous top large soft comfortable i asymmetrical regular great much cant small black small great great normal other top pretty i wide soft comfortable classic appropriate white little black beautiful hard right less new favorite comfy super white gray small other loose i much edgy little loose small great beautiful nice modern artistic enough only little wool next nice i good usual first little big i tight short small small i slender much i second top billowy i true small white super more casual perfect little comfy baggy more i green white best high true large nice recommend many i such cute big loose such simple great stylish white i camisole more big crinkle great i large cute soft little excessive green little flattering simple interesting good classy stylish comfortable other great skinny casual terrific great vest thin thick nice soft great easy polka sleeve great cooler great material stylish different classic flattering awesome super little big good much black black lbs many small good white sure other sweet simple strappy great rolled perfect uneven enough more black pale lighter seethrough nice great good first white soft great comfortable good sweet basic boxy nice short square asymmetrical great true higher subtle favorite i second coral light more down current other usual granite top easy nice old romantic neutral vine black super hte waist fit top great little short boxy larger i boxy i didnt great staple other white super nice worn small i little little more consistent fine top im busty large perfect comfortable white beautiful i awesome super breathable fabric printed only basic '"
      ]
     },
     "execution_count": 67,
     "metadata": {},
     "output_type": "execute_result"
    }
   ],
   "source": [
    "adj_tops = ''\n",
    "for x in data[data.product_category == 'Tops'].adjectives:\n",
    "    adj_tops += ' '.join(x) + ' '\n",
    "adj_tops"
   ]
  },
  {
   "cell_type": "markdown",
   "id": "68cd6fb7",
   "metadata": {},
   "source": [
    "Let's visualize the adjectives using a wordcloud"
   ]
  },
  {
   "cell_type": "code",
   "execution_count": 68,
   "id": "2a4fbad1",
   "metadata": {},
   "outputs": [
    {
     "data": {
      "image/png": "[encoded data removed]",
      "text/plain": [
       "<Figure size 640x480 with 1 Axes>"
      ]
     },
     "metadata": {},
     "output_type": "display_data"
    }
   ],
   "source": [
    "word_cloud = WordCloud(width = 800, height = 600, background_color = 'white').generate(adj_tops)\n",
    "plt.imshow(word_cloud)\n",
    "plt.axis('off')\n",
    "plt.show()"
   ]
  },
  {
   "cell_type": "markdown",
   "id": "e25e0267",
   "metadata": {},
   "source": [
    "<b>Exercise</b>: Write a python method that gets a product category name and combine the adjectives used in the reviews related to the input category and visualize them using a word cloud."
   ]
  },
  {
   "cell_type": "code",
   "execution_count": 69,
   "id": "f80b92c9",
   "metadata": {},
   "outputs": [
    {
     "data": {
      "image/png": "[encoded data removed]",
      "text/plain": [
       "<Figure size 640x480 with 1 Axes>"
      ]
     },
     "metadata": {},
     "output_type": "display_data"
    }
   ],
   "source": [
    "def visualize_adjectives(category):\n",
    "    adjectives = ''\n",
    "    \n",
    "    for x in data[data.product_category == category].adjectives:\n",
    "        adjectives += ' '.join(x) + ' '\n",
    "    word_cloud = WordCloud(width = 800, height = 600, background_color = 'white').generate(adjectives)\n",
    "    plt.imshow(word_cloud)\n",
    "    plt.axis('off')\n",
    "    plt.show()\n",
    "    \n",
    "visualize_adjectives('Dresses')"
   ]
  },
  {
   "cell_type": "markdown",
   "id": "050ef883",
   "metadata": {},
   "source": [
    "## Task 6 \n",
    "\n",
    "### Finding the sentiment of each review "
   ]
  },
  {
   "cell_type": "code",
   "execution_count": 70,
   "id": "6de0d760",
   "metadata": {},
   "outputs": [
    {
     "data": {
      "text/html": [
       "<div>\n",
       "<style scoped>\n",
       "    .dataframe tbody tr th:only-of-type {\n",
       "        vertical-align: middle;\n",
       "    }\n",
       "\n",
       "    .dataframe tbody tr th {\n",
       "        vertical-align: top;\n",
       "    }\n",
       "\n",
       "    .dataframe thead th {\n",
       "        text-align: right;\n",
       "    }\n",
       "</style>\n",
       "<table border=\"1\" class=\"dataframe\">\n",
       "  <thead>\n",
       "    <tr style=\"text-align: right;\">\n",
       "      <th></th>\n",
       "      <th>product_review</th>\n",
       "      <th>product_category</th>\n",
       "      <th>product_review_tokenized</th>\n",
       "      <th>cleaned_tokens</th>\n",
       "      <th>product_review_cleaned</th>\n",
       "      <th>POS_tokens</th>\n",
       "      <th>adjectves</th>\n",
       "      <th>adjectives</th>\n",
       "    </tr>\n",
       "  </thead>\n",
       "  <tbody>\n",
       "    <tr>\n",
       "      <th>0</th>\n",
       "      <td>i love love love this jumpsuit its fun flirty ...</td>\n",
       "      <td>Bottoms</td>\n",
       "      <td>[i, love, love, love, this, jumpsuit, its, fun...</td>\n",
       "      <td>[love, love, love, jumpsuit, fun, flirty, fabu...</td>\n",
       "      <td>love love love jumpsuit fun flirty fabulous ti...</td>\n",
       "      <td>[(i, NN), (love, VBP), (love, NN), (love, NN),...</td>\n",
       "      <td>[fabulous, i, great]</td>\n",
       "      <td>[fabulous, i, great]</td>\n",
       "    </tr>\n",
       "    <tr>\n",
       "      <th>1</th>\n",
       "      <td>beautifully made pants and on trend with the f...</td>\n",
       "      <td>Bottoms</td>\n",
       "      <td>[beautifully, made, pants, and, on, trend, wit...</td>\n",
       "      <td>[beautifully, made, pants, trend, flared, crop...</td>\n",
       "      <td>beautifully made pants trend flared crop much ...</td>\n",
       "      <td>[(beautifully, RB), (made, VBN), (pants, NNS),...</td>\n",
       "      <td>[flared, much]</td>\n",
       "      <td>[flared, much]</td>\n",
       "    </tr>\n",
       "    <tr>\n",
       "      <th>2</th>\n",
       "      <td>i never would have given these pants a second ...</td>\n",
       "      <td>Bottoms</td>\n",
       "      <td>[i, never, would, have, given, these, pants, a...</td>\n",
       "      <td>[never, would, given, pants, second, look, onl...</td>\n",
       "      <td>never would given pants second look online per...</td>\n",
       "      <td>[(i, NN), (never, RB), (would, MD), (have, VB)...</td>\n",
       "      <td>[second, much, cuter, right, small, loose, navy]</td>\n",
       "      <td>[second, much, cuter, right, small, loose, navy]</td>\n",
       "    </tr>\n",
       "    <tr>\n",
       "      <th>3</th>\n",
       "      <td>these pants are even better in person the only...</td>\n",
       "      <td>Bottoms</td>\n",
       "      <td>[these, pants, are, even, better, in, person, ...</td>\n",
       "      <td>[pants, even, better, person, downside, need, ...</td>\n",
       "      <td>pants even better person downside need dry cle...</td>\n",
       "      <td>[(these, DT), (pants, NNS), (are, VBP), (even,...</td>\n",
       "      <td>[only, dry]</td>\n",
       "      <td>[only, dry]</td>\n",
       "    </tr>\n",
       "    <tr>\n",
       "      <th>4</th>\n",
       "      <td>the silhouette and length of this skirt and le...</td>\n",
       "      <td>Bottoms</td>\n",
       "      <td>[the, silhouette, and, length, of, this, skirt...</td>\n",
       "      <td>[silhouette, length, skirt, length, flattering...</td>\n",
       "      <td>silhouette length skirt length flattering clas...</td>\n",
       "      <td>[(the, DT), (silhouette, NN), (and, CC), (leng...</td>\n",
       "      <td>[classic, comfortable, favorite, different, hi...</td>\n",
       "      <td>[classic, comfortable, favorite, different, hi...</td>\n",
       "    </tr>\n",
       "  </tbody>\n",
       "</table>\n",
       "</div>"
      ],
      "text/plain": [
       "                                      product_review product_category  \\\n",
       "0  i love love love this jumpsuit its fun flirty ...          Bottoms   \n",
       "1  beautifully made pants and on trend with the f...          Bottoms   \n",
       "2  i never would have given these pants a second ...          Bottoms   \n",
       "3  these pants are even better in person the only...          Bottoms   \n",
       "4  the silhouette and length of this skirt and le...          Bottoms   \n",
       "\n",
       "                            product_review_tokenized  \\\n",
       "0  [i, love, love, love, this, jumpsuit, its, fun...   \n",
       "1  [beautifully, made, pants, and, on, trend, wit...   \n",
       "2  [i, never, would, have, given, these, pants, a...   \n",
       "3  [these, pants, are, even, better, in, person, ...   \n",
       "4  [the, silhouette, and, length, of, this, skirt...   \n",
       "\n",
       "                                      cleaned_tokens  \\\n",
       "0  [love, love, love, jumpsuit, fun, flirty, fabu...   \n",
       "1  [beautifully, made, pants, trend, flared, crop...   \n",
       "2  [never, would, given, pants, second, look, onl...   \n",
       "3  [pants, even, better, person, downside, need, ...   \n",
       "4  [silhouette, length, skirt, length, flattering...   \n",
       "\n",
       "                              product_review_cleaned  \\\n",
       "0  love love love jumpsuit fun flirty fabulous ti...   \n",
       "1  beautifully made pants trend flared crop much ...   \n",
       "2  never would given pants second look online per...   \n",
       "3  pants even better person downside need dry cle...   \n",
       "4  silhouette length skirt length flattering clas...   \n",
       "\n",
       "                                          POS_tokens  \\\n",
       "0  [(i, NN), (love, VBP), (love, NN), (love, NN),...   \n",
       "1  [(beautifully, RB), (made, VBN), (pants, NNS),...   \n",
       "2  [(i, NN), (never, RB), (would, MD), (have, VB)...   \n",
       "3  [(these, DT), (pants, NNS), (are, VBP), (even,...   \n",
       "4  [(the, DT), (silhouette, NN), (and, CC), (leng...   \n",
       "\n",
       "                                           adjectves  \\\n",
       "0                               [fabulous, i, great]   \n",
       "1                                     [flared, much]   \n",
       "2   [second, much, cuter, right, small, loose, navy]   \n",
       "3                                        [only, dry]   \n",
       "4  [classic, comfortable, favorite, different, hi...   \n",
       "\n",
       "                                          adjectives  \n",
       "0                               [fabulous, i, great]  \n",
       "1                                     [flared, much]  \n",
       "2   [second, much, cuter, right, small, loose, navy]  \n",
       "3                                        [only, dry]  \n",
       "4  [classic, comfortable, favorite, different, hi...  "
      ]
     },
     "execution_count": 70,
     "metadata": {},
     "output_type": "execute_result"
    }
   ],
   "source": [
    "data.head()"
   ]
  },
  {
   "cell_type": "markdown",
   "id": "748173a9",
   "metadata": {},
   "source": [
    "Let's find the sentiment of the reviews"
   ]
  },
  {
   "cell_type": "code",
   "execution_count": 72,
   "id": "15bf5828",
   "metadata": {
    "scrolled": true
   },
   "outputs": [
    {
     "data": {
      "text/plain": [
       "{'neg': 0.177, 'neu': 0.159, 'pos': 0.665, 'compound': 0.9464}"
      ]
     },
     "execution_count": 72,
     "metadata": {},
     "output_type": "execute_result"
    }
   ],
   "source": [
    "sent = SentimentIntensityAnalyzer()\n",
    "review = data .product_review_cleaned[0]\n",
    "scores = sent.polarity_scores(review)\n",
    "scores"
   ]
  },
  {
   "cell_type": "markdown",
   "id": "d7245982",
   "metadata": {},
   "source": [
    "### Sentiment scores:\n",
    "\n",
    "- `pos`: The probability of `positive` sentiment\n",
    "- `neu`: The probability of `neutral` sentiment\n",
    "- `neg`: The probability of `negative` sentiment\n",
    "- `compound`: The normalized `compound` score that takes values from -1 to 1\n",
    "\n",
    "We can use the `compound` score to find the sentiment of each review.\n",
    "\n",
    "- if compound score>=0.05 then `positive` \n",
    "- if compound score between -0.05 and 0.05 then `neutral` \n",
    "- if compound score<=-0.05 then `negative` \n",
    "\n",
    "\n",
    "Now let's create a method to find the sentiment of a review using the compound score"
   ]
  },
  {
   "cell_type": "code",
   "execution_count": 73,
   "id": "463acbba",
   "metadata": {},
   "outputs": [
    {
     "data": {
      "text/plain": [
       "'positive'"
      ]
     },
     "execution_count": 73,
     "metadata": {},
     "output_type": "execute_result"
    }
   ],
   "source": [
    "def polarity_score(review):\n",
    "    # Initilizing the Sentiment Analyzer\n",
    "    sent = SentimentIntensityAnalyzer()\n",
    "   \n",
    "    # Extracting the sentiment polarity scores of a review\n",
    "    scores = sent.polarity_scores(review)\n",
    "    \n",
    "    # Getting the compound score\n",
    "    compound = scores['compound']\n",
    "    \n",
    "    if compound > 0.05:\n",
    "        return \"positive\"\n",
    "    elif compound < -0.5:\n",
    "        return \"negative\"\n",
    "    else:\n",
    "        return \"neutral\"\n",
    "\n",
    "polarity_score('this product is amazing the quality is really good')"
   ]
  },
  {
   "cell_type": "markdown",
   "id": "f100afa5",
   "metadata": {},
   "source": [
    "Let's label all the reviews with sentiment"
   ]
  },
  {
   "cell_type": "code",
   "execution_count": 75,
   "id": "81b4ce23",
   "metadata": {
    "scrolled": true
   },
   "outputs": [
    {
     "data": {
      "text/html": [
       "<div>\n",
       "<style scoped>\n",
       "    .dataframe tbody tr th:only-of-type {\n",
       "        vertical-align: middle;\n",
       "    }\n",
       "\n",
       "    .dataframe tbody tr th {\n",
       "        vertical-align: top;\n",
       "    }\n",
       "\n",
       "    .dataframe thead th {\n",
       "        text-align: right;\n",
       "    }\n",
       "</style>\n",
       "<table border=\"1\" class=\"dataframe\">\n",
       "  <thead>\n",
       "    <tr style=\"text-align: right;\">\n",
       "      <th></th>\n",
       "      <th>product_review</th>\n",
       "      <th>product_category</th>\n",
       "      <th>product_review_tokenized</th>\n",
       "      <th>cleaned_tokens</th>\n",
       "      <th>product_review_cleaned</th>\n",
       "      <th>POS_tokens</th>\n",
       "      <th>adjectves</th>\n",
       "      <th>adjectives</th>\n",
       "      <th>sentiment</th>\n",
       "    </tr>\n",
       "  </thead>\n",
       "  <tbody>\n",
       "    <tr>\n",
       "      <th>0</th>\n",
       "      <td>i love love love this jumpsuit its fun flirty ...</td>\n",
       "      <td>Bottoms</td>\n",
       "      <td>[i, love, love, love, this, jumpsuit, its, fun...</td>\n",
       "      <td>[love, love, love, jumpsuit, fun, flirty, fabu...</td>\n",
       "      <td>love love love jumpsuit fun flirty fabulous ti...</td>\n",
       "      <td>[(i, NN), (love, VBP), (love, NN), (love, NN),...</td>\n",
       "      <td>[fabulous, i, great]</td>\n",
       "      <td>[fabulous, i, great]</td>\n",
       "      <td>positive</td>\n",
       "    </tr>\n",
       "    <tr>\n",
       "      <th>1</th>\n",
       "      <td>beautifully made pants and on trend with the f...</td>\n",
       "      <td>Bottoms</td>\n",
       "      <td>[beautifully, made, pants, and, on, trend, wit...</td>\n",
       "      <td>[beautifully, made, pants, trend, flared, crop...</td>\n",
       "      <td>beautifully made pants trend flared crop much ...</td>\n",
       "      <td>[(beautifully, RB), (made, VBN), (pants, NNS),...</td>\n",
       "      <td>[flared, much]</td>\n",
       "      <td>[flared, much]</td>\n",
       "      <td>positive</td>\n",
       "    </tr>\n",
       "    <tr>\n",
       "      <th>2</th>\n",
       "      <td>i never would have given these pants a second ...</td>\n",
       "      <td>Bottoms</td>\n",
       "      <td>[i, never, would, have, given, these, pants, a...</td>\n",
       "      <td>[never, would, given, pants, second, look, onl...</td>\n",
       "      <td>never would given pants second look online per...</td>\n",
       "      <td>[(i, NN), (never, RB), (would, MD), (have, VB)...</td>\n",
       "      <td>[second, much, cuter, right, small, loose, navy]</td>\n",
       "      <td>[second, much, cuter, right, small, loose, navy]</td>\n",
       "      <td>positive</td>\n",
       "    </tr>\n",
       "    <tr>\n",
       "      <th>3</th>\n",
       "      <td>these pants are even better in person the only...</td>\n",
       "      <td>Bottoms</td>\n",
       "      <td>[these, pants, are, even, better, in, person, ...</td>\n",
       "      <td>[pants, even, better, person, downside, need, ...</td>\n",
       "      <td>pants even better person downside need dry cle...</td>\n",
       "      <td>[(these, DT), (pants, NNS), (are, VBP), (even,...</td>\n",
       "      <td>[only, dry]</td>\n",
       "      <td>[only, dry]</td>\n",
       "      <td>positive</td>\n",
       "    </tr>\n",
       "    <tr>\n",
       "      <th>4</th>\n",
       "      <td>the silhouette and length of this skirt and le...</td>\n",
       "      <td>Bottoms</td>\n",
       "      <td>[the, silhouette, and, length, of, this, skirt...</td>\n",
       "      <td>[silhouette, length, skirt, length, flattering...</td>\n",
       "      <td>silhouette length skirt length flattering clas...</td>\n",
       "      <td>[(the, DT), (silhouette, NN), (and, CC), (leng...</td>\n",
       "      <td>[classic, comfortable, favorite, different, hi...</td>\n",
       "      <td>[classic, comfortable, favorite, different, hi...</td>\n",
       "      <td>positive</td>\n",
       "    </tr>\n",
       "  </tbody>\n",
       "</table>\n",
       "</div>"
      ],
      "text/plain": [
       "                                      product_review product_category  \\\n",
       "0  i love love love this jumpsuit its fun flirty ...          Bottoms   \n",
       "1  beautifully made pants and on trend with the f...          Bottoms   \n",
       "2  i never would have given these pants a second ...          Bottoms   \n",
       "3  these pants are even better in person the only...          Bottoms   \n",
       "4  the silhouette and length of this skirt and le...          Bottoms   \n",
       "\n",
       "                            product_review_tokenized  \\\n",
       "0  [i, love, love, love, this, jumpsuit, its, fun...   \n",
       "1  [beautifully, made, pants, and, on, trend, wit...   \n",
       "2  [i, never, would, have, given, these, pants, a...   \n",
       "3  [these, pants, are, even, better, in, person, ...   \n",
       "4  [the, silhouette, and, length, of, this, skirt...   \n",
       "\n",
       "                                      cleaned_tokens  \\\n",
       "0  [love, love, love, jumpsuit, fun, flirty, fabu...   \n",
       "1  [beautifully, made, pants, trend, flared, crop...   \n",
       "2  [never, would, given, pants, second, look, onl...   \n",
       "3  [pants, even, better, person, downside, need, ...   \n",
       "4  [silhouette, length, skirt, length, flattering...   \n",
       "\n",
       "                              product_review_cleaned  \\\n",
       "0  love love love jumpsuit fun flirty fabulous ti...   \n",
       "1  beautifully made pants trend flared crop much ...   \n",
       "2  never would given pants second look online per...   \n",
       "3  pants even better person downside need dry cle...   \n",
       "4  silhouette length skirt length flattering clas...   \n",
       "\n",
       "                                          POS_tokens  \\\n",
       "0  [(i, NN), (love, VBP), (love, NN), (love, NN),...   \n",
       "1  [(beautifully, RB), (made, VBN), (pants, NNS),...   \n",
       "2  [(i, NN), (never, RB), (would, MD), (have, VB)...   \n",
       "3  [(these, DT), (pants, NNS), (are, VBP), (even,...   \n",
       "4  [(the, DT), (silhouette, NN), (and, CC), (leng...   \n",
       "\n",
       "                                           adjectves  \\\n",
       "0                               [fabulous, i, great]   \n",
       "1                                     [flared, much]   \n",
       "2   [second, much, cuter, right, small, loose, navy]   \n",
       "3                                        [only, dry]   \n",
       "4  [classic, comfortable, favorite, different, hi...   \n",
       "\n",
       "                                          adjectives sentiment  \n",
       "0                               [fabulous, i, great]  positive  \n",
       "1                                     [flared, much]  positive  \n",
       "2   [second, much, cuter, right, small, loose, navy]  positive  \n",
       "3                                        [only, dry]  positive  \n",
       "4  [classic, comfortable, favorite, different, hi...  positive  "
      ]
     },
     "execution_count": 75,
     "metadata": {},
     "output_type": "execute_result"
    }
   ],
   "source": [
    "data ['sentiment'] = data.product_review_cleaned.apply(polarity_score)\n",
    "data.head()"
   ]
  },
  {
   "cell_type": "code",
   "execution_count": 77,
   "id": "0d8aca20",
   "metadata": {},
   "outputs": [
    {
     "data": {
      "text/plain": [
       "(3376, 9)"
      ]
     },
     "execution_count": 77,
     "metadata": {},
     "output_type": "execute_result"
    }
   ],
   "source": [
    "data.shape"
   ]
  },
  {
   "cell_type": "code",
   "execution_count": 79,
   "id": "693a0d04",
   "metadata": {
    "scrolled": true
   },
   "outputs": [
    {
     "data": {
      "text/html": [
       "<div>\n",
       "<style scoped>\n",
       "    .dataframe tbody tr th:only-of-type {\n",
       "        vertical-align: middle;\n",
       "    }\n",
       "\n",
       "    .dataframe tbody tr th {\n",
       "        vertical-align: top;\n",
       "    }\n",
       "\n",
       "    .dataframe thead th {\n",
       "        text-align: right;\n",
       "    }\n",
       "</style>\n",
       "<table border=\"1\" class=\"dataframe\">\n",
       "  <thead>\n",
       "    <tr style=\"text-align: right;\">\n",
       "      <th></th>\n",
       "      <th>product_category</th>\n",
       "      <th>sentiment</th>\n",
       "      <th>counts</th>\n",
       "    </tr>\n",
       "  </thead>\n",
       "  <tbody>\n",
       "    <tr>\n",
       "      <th>0</th>\n",
       "      <td>Bottoms</td>\n",
       "      <td>negative</td>\n",
       "      <td>1</td>\n",
       "    </tr>\n",
       "    <tr>\n",
       "      <th>1</th>\n",
       "      <td>Bottoms</td>\n",
       "      <td>neutral</td>\n",
       "      <td>5</td>\n",
       "    </tr>\n",
       "    <tr>\n",
       "      <th>2</th>\n",
       "      <td>Bottoms</td>\n",
       "      <td>positive</td>\n",
       "      <td>679</td>\n",
       "    </tr>\n",
       "    <tr>\n",
       "      <th>3</th>\n",
       "      <td>Dresses</td>\n",
       "      <td>negative</td>\n",
       "      <td>36</td>\n",
       "    </tr>\n",
       "    <tr>\n",
       "      <th>4</th>\n",
       "      <td>Dresses</td>\n",
       "      <td>neutral</td>\n",
       "      <td>79</td>\n",
       "    </tr>\n",
       "    <tr>\n",
       "      <th>5</th>\n",
       "      <td>Dresses</td>\n",
       "      <td>positive</td>\n",
       "      <td>566</td>\n",
       "    </tr>\n",
       "    <tr>\n",
       "      <th>6</th>\n",
       "      <td>Intimate</td>\n",
       "      <td>negative</td>\n",
       "      <td>3</td>\n",
       "    </tr>\n",
       "    <tr>\n",
       "      <th>7</th>\n",
       "      <td>Intimate</td>\n",
       "      <td>neutral</td>\n",
       "      <td>34</td>\n",
       "    </tr>\n",
       "    <tr>\n",
       "      <th>8</th>\n",
       "      <td>Intimate</td>\n",
       "      <td>positive</td>\n",
       "      <td>613</td>\n",
       "    </tr>\n",
       "    <tr>\n",
       "      <th>9</th>\n",
       "      <td>Jackets</td>\n",
       "      <td>negative</td>\n",
       "      <td>2</td>\n",
       "    </tr>\n",
       "    <tr>\n",
       "      <th>10</th>\n",
       "      <td>Jackets</td>\n",
       "      <td>neutral</td>\n",
       "      <td>8</td>\n",
       "    </tr>\n",
       "    <tr>\n",
       "      <th>11</th>\n",
       "      <td>Jackets</td>\n",
       "      <td>positive</td>\n",
       "      <td>670</td>\n",
       "    </tr>\n",
       "    <tr>\n",
       "      <th>12</th>\n",
       "      <td>Tops</td>\n",
       "      <td>negative</td>\n",
       "      <td>1</td>\n",
       "    </tr>\n",
       "    <tr>\n",
       "      <th>13</th>\n",
       "      <td>Tops</td>\n",
       "      <td>neutral</td>\n",
       "      <td>5</td>\n",
       "    </tr>\n",
       "    <tr>\n",
       "      <th>14</th>\n",
       "      <td>Tops</td>\n",
       "      <td>positive</td>\n",
       "      <td>674</td>\n",
       "    </tr>\n",
       "  </tbody>\n",
       "</table>\n",
       "</div>"
      ],
      "text/plain": [
       "   product_category sentiment  counts\n",
       "0           Bottoms  negative       1\n",
       "1           Bottoms   neutral       5\n",
       "2           Bottoms  positive     679\n",
       "3           Dresses  negative      36\n",
       "4           Dresses   neutral      79\n",
       "5           Dresses  positive     566\n",
       "6          Intimate  negative       3\n",
       "7          Intimate   neutral      34\n",
       "8          Intimate  positive     613\n",
       "9           Jackets  negative       2\n",
       "10          Jackets   neutral       8\n",
       "11          Jackets  positive     670\n",
       "12             Tops  negative       1\n",
       "13             Tops   neutral       5\n",
       "14             Tops  positive     674"
      ]
     },
     "execution_count": 79,
     "metadata": {},
     "output_type": "execute_result"
    }
   ],
   "source": [
    "df = data.groupby(['product_category', 'sentiment']).size().reset_index(name = 'counts')\n",
    "df"
   ]
  },
  {
   "cell_type": "code",
   "execution_count": 80,
   "id": "2288d43f",
   "metadata": {
    "scrolled": false
   },
   "outputs": [
    {
     "data": {
      "application/vnd.plotly.v1+json": {
       "config": {
        "plotlyServerURL": "https://plot.ly"
       },
       "data": [
        {
         "alignmentgroup": "True",
         "hovertemplate": "sentiment=negative<br>product_category=%{x}<br>counts=%{y}<extra></extra>",
         "legendgroup": "negative",
         "marker": {
          "color": "#636efa",
          "pattern": {
           "shape": ""
          }
         },
         "name": "negative",
         "offsetgroup": "negative",
         "orientation": "v",
         "showlegend": true,
         "textposition": "auto",
         "type": "bar",
         "x": [
          "Bottoms",
          "Dresses",
          "Intimate",
          "Jackets",
          "Tops"
         ],
         "xaxis": "x",
         "y": [
          1,
          36,
          3,
          2,
          1
         ],
         "yaxis": "y"
        },
        {
         "alignmentgroup": "True",
         "hovertemplate": "sentiment=neutral<br>product_category=%{x}<br>counts=%{y}<extra></extra>",
         "legendgroup": "neutral",
         "marker": {
          "color": "#EF553B",
          "pattern": {
           "shape": ""
          }
         },
         "name": "neutral",
         "offsetgroup": "neutral",
         "orientation": "v",
         "showlegend": true,
         "textposition": "auto",
         "type": "bar",
         "x": [
          "Bottoms",
          "Dresses",
          "Intimate",
          "Jackets",
          "Tops"
         ],
         "xaxis": "x",
         "y": [
          5,
          79,
          34,
          8,
          5
         ],
         "yaxis": "y"
        },
        {
         "alignmentgroup": "True",
         "hovertemplate": "sentiment=positive<br>product_category=%{x}<br>counts=%{y}<extra></extra>",
         "legendgroup": "positive",
         "marker": {
          "color": "#00cc96",
          "pattern": {
           "shape": ""
          }
         },
         "name": "positive",
         "offsetgroup": "positive",
         "orientation": "v",
         "showlegend": true,
         "textposition": "auto",
         "type": "bar",
         "x": [
          "Bottoms",
          "Dresses",
          "Intimate",
          "Jackets",
          "Tops"
         ],
         "xaxis": "x",
         "y": [
          679,
          566,
          613,
          670,
          674
         ],
         "yaxis": "y"
        }
       ],
       "layout": {
        "barmode": "group",
        "legend": {
         "title": {
          "text": "sentiment"
         },
         "tracegroupgap": 0
        },
        "margin": {
         "t": 60
        },
        "template": {
         "data": {
          "bar": [
           {
            "error_x": {
             "color": "#2a3f5f"
            },
            "error_y": {
             "color": "#2a3f5f"
            },
            "marker": {
             "line": {
              "color": "#E5ECF6",
              "width": 0.5
             },
             "pattern": {
              "fillmode": "overlay",
              "size": 10,
              "solidity": 0.2
             }
            },
            "type": "bar"
           }
          ],
          "barpolar": [
           {
            "marker": {
             "line": {
              "color": "#E5ECF6",
              "width": 0.5
             },
             "pattern": {
              "fillmode": "overlay",
              "size": 10,
              "solidity": 0.2
             }
            },
            "type": "barpolar"
           }
          ],
          "carpet": [
           {
            "aaxis": {
             "endlinecolor": "#2a3f5f",
             "gridcolor": "white",
             "linecolor": "white",
             "minorgridcolor": "white",
             "startlinecolor": "#2a3f5f"
            },
            "baxis": {
             "endlinecolor": "#2a3f5f",
             "gridcolor": "white",
             "linecolor": "white",
             "minorgridcolor": "white",
             "startlinecolor": "#2a3f5f"
            },
            "type": "carpet"
           }
          ],
          "choropleth": [
           {
            "colorbar": {
             "outlinewidth": 0,
             "ticks": ""
            },
            "type": "choropleth"
           }
          ],
          "contour": [
           {
            "colorbar": {
             "outlinewidth": 0,
             "ticks": ""
            },
            "colorscale": [
             [
              0,
              "#0d0887"
             ],
             [
              0.1111111111111111,
              "#46039f"
             ],
             [
              0.2222222222222222,
              "#7201a8"
             ],
             [
              0.3333333333333333,
              "#9c179e"
             ],
             [
              0.4444444444444444,
              "#bd3786"
             ],
             [
              0.5555555555555556,
              "#d8576b"
             ],
             [
              0.6666666666666666,
              "#ed7953"
             ],
             [
              0.7777777777777778,
              "#fb9f3a"
             ],
             [
              0.8888888888888888,
              "#fdca26"
             ],
             [
              1,
              "#f0f921"
             ]
            ],
            "type": "contour"
           }
          ],
          "contourcarpet": [
           {
            "colorbar": {
             "outlinewidth": 0,
             "ticks": ""
            },
            "type": "contourcarpet"
           }
          ],
          "heatmap": [
           {
            "colorbar": {
             "outlinewidth": 0,
             "ticks": ""
            },
            "colorscale": [
             [
              0,
              "#0d0887"
             ],
             [
              0.1111111111111111,
              "#46039f"
             ],
             [
              0.2222222222222222,
              "#7201a8"
             ],
             [
              0.3333333333333333,
              "#9c179e"
             ],
             [
              0.4444444444444444,
              "#bd3786"
             ],
             [
              0.5555555555555556,
              "#d8576b"
             ],
             [
              0.6666666666666666,
              "#ed7953"
             ],
             [
              0.7777777777777778,
              "#fb9f3a"
             ],
             [
              0.8888888888888888,
              "#fdca26"
             ],
             [
              1,
              "#f0f921"
             ]
            ],
            "type": "heatmap"
           }
          ],
          "heatmapgl": [
           {
            "colorbar": {
             "outlinewidth": 0,
             "ticks": ""
            },
            "colorscale": [
             [
              0,
              "#0d0887"
             ],
             [
              0.1111111111111111,
              "#46039f"
             ],
             [
              0.2222222222222222,
              "#7201a8"
             ],
             [
              0.3333333333333333,
              "#9c179e"
             ],
             [
              0.4444444444444444,
              "#bd3786"
             ],
             [
              0.5555555555555556,
              "#d8576b"
             ],
             [
              0.6666666666666666,
              "#ed7953"
             ],
             [
              0.7777777777777778,
              "#fb9f3a"
             ],
             [
              0.8888888888888888,
              "#fdca26"
             ],
             [
              1,
              "#f0f921"
             ]
            ],
            "type": "heatmapgl"
           }
          ],
          "histogram": [
           {
            "marker": {
             "pattern": {
              "fillmode": "overlay",
              "size": 10,
              "solidity": 0.2
             }
            },
            "type": "histogram"
           }
          ],
          "histogram2d": [
           {
            "colorbar": {
             "outlinewidth": 0,
             "ticks": ""
            },
            "colorscale": [
             [
              0,
              "#0d0887"
             ],
             [
              0.1111111111111111,
              "#46039f"
             ],
             [
              0.2222222222222222,
              "#7201a8"
             ],
             [
              0.3333333333333333,
              "#9c179e"
             ],
             [
              0.4444444444444444,
              "#bd3786"
             ],
             [
              0.5555555555555556,
              "#d8576b"
             ],
             [
              0.6666666666666666,
              "#ed7953"
             ],
             [
              0.7777777777777778,
              "#fb9f3a"
             ],
             [
              0.8888888888888888,
              "#fdca26"
             ],
             [
              1,
              "#f0f921"
             ]
            ],
            "type": "histogram2d"
           }
          ],
          "histogram2dcontour": [
           {
            "colorbar": {
             "outlinewidth": 0,
             "ticks": ""
            },
            "colorscale": [
             [
              0,
              "#0d0887"
             ],
             [
              0.1111111111111111,
              "#46039f"
             ],
             [
              0.2222222222222222,
              "#7201a8"
             ],
             [
              0.3333333333333333,
              "#9c179e"
             ],
             [
              0.4444444444444444,
              "#bd3786"
             ],
             [
              0.5555555555555556,
              "#d8576b"
             ],
             [
              0.6666666666666666,
              "#ed7953"
             ],
             [
              0.7777777777777778,
              "#fb9f3a"
             ],
             [
              0.8888888888888888,
              "#fdca26"
             ],
             [
              1,
              "#f0f921"
             ]
            ],
            "type": "histogram2dcontour"
           }
          ],
          "mesh3d": [
           {
            "colorbar": {
             "outlinewidth": 0,
             "ticks": ""
            },
            "type": "mesh3d"
           }
          ],
          "parcoords": [
           {
            "line": {
             "colorbar": {
              "outlinewidth": 0,
              "ticks": ""
             }
            },
            "type": "parcoords"
           }
          ],
          "pie": [
           {
            "automargin": true,
            "type": "pie"
           }
          ],
          "scatter": [
           {
            "fillpattern": {
             "fillmode": "overlay",
             "size": 10,
             "solidity": 0.2
            },
            "type": "scatter"
           }
          ],
          "scatter3d": [
           {
            "line": {
             "colorbar": {
              "outlinewidth": 0,
              "ticks": ""
             }
            },
            "marker": {
             "colorbar": {
              "outlinewidth": 0,
              "ticks": ""
             }
            },
            "type": "scatter3d"
           }
          ],
          "scattercarpet": [
           {
            "marker": {
             "colorbar": {
              "outlinewidth": 0,
              "ticks": ""
             }
            },
            "type": "scattercarpet"
           }
          ],
          "scattergeo": [
           {
            "marker": {
             "colorbar": {
              "outlinewidth": 0,
              "ticks": ""
             }
            },
            "type": "scattergeo"
           }
          ],
          "scattergl": [
           {
            "marker": {
             "colorbar": {
              "outlinewidth": 0,
              "ticks": ""
             }
            },
            "type": "scattergl"
           }
          ],
          "scattermapbox": [
           {
            "marker": {
             "colorbar": {
              "outlinewidth": 0,
              "ticks": ""
             }
            },
            "type": "scattermapbox"
           }
          ],
          "scatterpolar": [
           {
            "marker": {
             "colorbar": {
              "outlinewidth": 0,
              "ticks": ""
             }
            },
            "type": "scatterpolar"
           }
          ],
          "scatterpolargl": [
           {
            "marker": {
             "colorbar": {
              "outlinewidth": 0,
              "ticks": ""
             }
            },
            "type": "scatterpolargl"
           }
          ],
          "scatterternary": [
           {
            "marker": {
             "colorbar": {
              "outlinewidth": 0,
              "ticks": ""
             }
            },
            "type": "scatterternary"
           }
          ],
          "surface": [
           {
            "colorbar": {
             "outlinewidth": 0,
             "ticks": ""
            },
            "colorscale": [
             [
              0,
              "#0d0887"
             ],
             [
              0.1111111111111111,
              "#46039f"
             ],
             [
              0.2222222222222222,
              "#7201a8"
             ],
             [
              0.3333333333333333,
              "#9c179e"
             ],
             [
              0.4444444444444444,
              "#bd3786"
             ],
             [
              0.5555555555555556,
              "#d8576b"
             ],
             [
              0.6666666666666666,
              "#ed7953"
             ],
             [
              0.7777777777777778,
              "#fb9f3a"
             ],
             [
              0.8888888888888888,
              "#fdca26"
             ],
             [
              1,
              "#f0f921"
             ]
            ],
            "type": "surface"
           }
          ],
          "table": [
           {
            "cells": {
             "fill": {
              "color": "#EBF0F8"
             },
             "line": {
              "color": "white"
             }
            },
            "header": {
             "fill": {
              "color": "#C8D4E3"
             },
             "line": {
              "color": "white"
             }
            },
            "type": "table"
           }
          ]
         },
         "layout": {
          "annotationdefaults": {
           "arrowcolor": "#2a3f5f",
           "arrowhead": 0,
           "arrowwidth": 1
          },
          "autotypenumbers": "strict",
          "coloraxis": {
           "colorbar": {
            "outlinewidth": 0,
            "ticks": ""
           }
          },
          "colorscale": {
           "diverging": [
            [
             0,
             "#8e0152"
            ],
            [
             0.1,
             "#c51b7d"
            ],
            [
             0.2,
             "#de77ae"
            ],
            [
             0.3,
             "#f1b6da"
            ],
            [
             0.4,
             "#fde0ef"
            ],
            [
             0.5,
             "#f7f7f7"
            ],
            [
             0.6,
             "#e6f5d0"
            ],
            [
             0.7,
             "#b8e186"
            ],
            [
             0.8,
             "#7fbc41"
            ],
            [
             0.9,
             "#4d9221"
            ],
            [
             1,
             "#276419"
            ]
           ],
           "sequential": [
            [
             0,
             "#0d0887"
            ],
            [
             0.1111111111111111,
             "#46039f"
            ],
            [
             0.2222222222222222,
             "#7201a8"
            ],
            [
             0.3333333333333333,
             "#9c179e"
            ],
            [
             0.4444444444444444,
             "#bd3786"
            ],
            [
             0.5555555555555556,
             "#d8576b"
            ],
            [
             0.6666666666666666,
             "#ed7953"
            ],
            [
             0.7777777777777778,
             "#fb9f3a"
            ],
            [
             0.8888888888888888,
             "#fdca26"
            ],
            [
             1,
             "#f0f921"
            ]
           ],
           "sequentialminus": [
            [
             0,
             "#0d0887"
            ],
            [
             0.1111111111111111,
             "#46039f"
            ],
            [
             0.2222222222222222,
             "#7201a8"
            ],
            [
             0.3333333333333333,
             "#9c179e"
            ],
            [
             0.4444444444444444,
             "#bd3786"
            ],
            [
             0.5555555555555556,
             "#d8576b"
            ],
            [
             0.6666666666666666,
             "#ed7953"
            ],
            [
             0.7777777777777778,
             "#fb9f3a"
            ],
            [
             0.8888888888888888,
             "#fdca26"
            ],
            [
             1,
             "#f0f921"
            ]
           ]
          },
          "colorway": [
           "#636efa",
           "#EF553B",
           "#00cc96",
           "#ab63fa",
           "#FFA15A",
           "#19d3f3",
           "#FF6692",
           "#B6E880",
           "#FF97FF",
           "#FECB52"
          ],
          "font": {
           "color": "#2a3f5f"
          },
          "geo": {
           "bgcolor": "white",
           "lakecolor": "white",
           "landcolor": "#E5ECF6",
           "showlakes": true,
           "showland": true,
           "subunitcolor": "white"
          },
          "hoverlabel": {
           "align": "left"
          },
          "hovermode": "closest",
          "mapbox": {
           "style": "light"
          },
          "paper_bgcolor": "white",
          "plot_bgcolor": "#E5ECF6",
          "polar": {
           "angularaxis": {
            "gridcolor": "white",
            "linecolor": "white",
            "ticks": ""
           },
           "bgcolor": "#E5ECF6",
           "radialaxis": {
            "gridcolor": "white",
            "linecolor": "white",
            "ticks": ""
           }
          },
          "scene": {
           "xaxis": {
            "backgroundcolor": "#E5ECF6",
            "gridcolor": "white",
            "gridwidth": 2,
            "linecolor": "white",
            "showbackground": true,
            "ticks": "",
            "zerolinecolor": "white"
           },
           "yaxis": {
            "backgroundcolor": "#E5ECF6",
            "gridcolor": "white",
            "gridwidth": 2,
            "linecolor": "white",
            "showbackground": true,
            "ticks": "",
            "zerolinecolor": "white"
           },
           "zaxis": {
            "backgroundcolor": "#E5ECF6",
            "gridcolor": "white",
            "gridwidth": 2,
            "linecolor": "white",
            "showbackground": true,
            "ticks": "",
            "zerolinecolor": "white"
           }
          },
          "shapedefaults": {
           "line": {
            "color": "#2a3f5f"
           }
          },
          "ternary": {
           "aaxis": {
            "gridcolor": "white",
            "linecolor": "white",
            "ticks": ""
           },
           "baxis": {
            "gridcolor": "white",
            "linecolor": "white",
            "ticks": ""
           },
           "bgcolor": "#E5ECF6",
           "caxis": {
            "gridcolor": "white",
            "linecolor": "white",
            "ticks": ""
           }
          },
          "title": {
           "x": 0.05
          },
          "xaxis": {
           "automargin": true,
           "gridcolor": "white",
           "linecolor": "white",
           "ticks": "",
           "title": {
            "standoff": 15
           },
           "zerolinecolor": "white",
           "zerolinewidth": 2
          },
          "yaxis": {
           "automargin": true,
           "gridcolor": "white",
           "linecolor": "white",
           "ticks": "",
           "title": {
            "standoff": 15
           },
           "zerolinecolor": "white",
           "zerolinewidth": 2
          }
         }
        },
        "xaxis": {
         "anchor": "y",
         "domain": [
          0,
          1
         ],
         "title": {
          "text": "product_category"
         }
        },
        "yaxis": {
         "anchor": "x",
         "domain": [
          0,
          1
         ],
         "title": {
          "text": "counts"
         }
        }
       }
      },
      "text/html": [
       "<div>                            <div id=\"36938430-261e-41b1-a769-278be5a3ef55\" class=\"plotly-graph-div\" style=\"height:525px; width:100%;\"></div>            <script type=\"text/javascript\">                require([\"plotly\"], function(Plotly) {                    window.PLOTLYENV=window.PLOTLYENV || {};                                    if (document.getElementById(\"36938430-261e-41b1-a769-278be5a3ef55\")) {                    Plotly.newPlot(                        \"36938430-261e-41b1-a769-278be5a3ef55\",                        [{\"alignmentgroup\":\"True\",\"hovertemplate\":\"sentiment=negative\\u003cbr\\u003eproduct_category=%{x}\\u003cbr\\u003ecounts=%{y}\\u003cextra\\u003e\\u003c\\u002fextra\\u003e\",\"legendgroup\":\"negative\",\"marker\":{\"color\":\"#636efa\",\"pattern\":{\"shape\":\"\"}},\"name\":\"negative\",\"offsetgroup\":\"negative\",\"orientation\":\"v\",\"showlegend\":true,\"textposition\":\"auto\",\"x\":[\"Bottoms\",\"Dresses\",\"Intimate\",\"Jackets\",\"Tops\"],\"xaxis\":\"x\",\"y\":[1,36,3,2,1],\"yaxis\":\"y\",\"type\":\"bar\"},{\"alignmentgroup\":\"True\",\"hovertemplate\":\"sentiment=neutral\\u003cbr\\u003eproduct_category=%{x}\\u003cbr\\u003ecounts=%{y}\\u003cextra\\u003e\\u003c\\u002fextra\\u003e\",\"legendgroup\":\"neutral\",\"marker\":{\"color\":\"#EF553B\",\"pattern\":{\"shape\":\"\"}},\"name\":\"neutral\",\"offsetgroup\":\"neutral\",\"orientation\":\"v\",\"showlegend\":true,\"textposition\":\"auto\",\"x\":[\"Bottoms\",\"Dresses\",\"Intimate\",\"Jackets\",\"Tops\"],\"xaxis\":\"x\",\"y\":[5,79,34,8,5],\"yaxis\":\"y\",\"type\":\"bar\"},{\"alignmentgroup\":\"True\",\"hovertemplate\":\"sentiment=positive\\u003cbr\\u003eproduct_category=%{x}\\u003cbr\\u003ecounts=%{y}\\u003cextra\\u003e\\u003c\\u002fextra\\u003e\",\"legendgroup\":\"positive\",\"marker\":{\"color\":\"#00cc96\",\"pattern\":{\"shape\":\"\"}},\"name\":\"positive\",\"offsetgroup\":\"positive\",\"orientation\":\"v\",\"showlegend\":true,\"textposition\":\"auto\",\"x\":[\"Bottoms\",\"Dresses\",\"Intimate\",\"Jackets\",\"Tops\"],\"xaxis\":\"x\",\"y\":[679,566,613,670,674],\"yaxis\":\"y\",\"type\":\"bar\"}],                        {\"template\":{\"data\":{\"histogram2dcontour\":[{\"type\":\"histogram2dcontour\",\"colorbar\":{\"outlinewidth\":0,\"ticks\":\"\"},\"colorscale\":[[0.0,\"#0d0887\"],[0.1111111111111111,\"#46039f\"],[0.2222222222222222,\"#7201a8\"],[0.3333333333333333,\"#9c179e\"],[0.4444444444444444,\"#bd3786\"],[0.5555555555555556,\"#d8576b\"],[0.6666666666666666,\"#ed7953\"],[0.7777777777777778,\"#fb9f3a\"],[0.8888888888888888,\"#fdca26\"],[1.0,\"#f0f921\"]]}],\"choropleth\":[{\"type\":\"choropleth\",\"colorbar\":{\"outlinewidth\":0,\"ticks\":\"\"}}],\"histogram2d\":[{\"type\":\"histogram2d\",\"colorbar\":{\"outlinewidth\":0,\"ticks\":\"\"},\"colorscale\":[[0.0,\"#0d0887\"],[0.1111111111111111,\"#46039f\"],[0.2222222222222222,\"#7201a8\"],[0.3333333333333333,\"#9c179e\"],[0.4444444444444444,\"#bd3786\"],[0.5555555555555556,\"#d8576b\"],[0.6666666666666666,\"#ed7953\"],[0.7777777777777778,\"#fb9f3a\"],[0.8888888888888888,\"#fdca26\"],[1.0,\"#f0f921\"]]}],\"heatmap\":[{\"type\":\"heatmap\",\"colorbar\":{\"outlinewidth\":0,\"ticks\":\"\"},\"colorscale\":[[0.0,\"#0d0887\"],[0.1111111111111111,\"#46039f\"],[0.2222222222222222,\"#7201a8\"],[0.3333333333333333,\"#9c179e\"],[0.4444444444444444,\"#bd3786\"],[0.5555555555555556,\"#d8576b\"],[0.6666666666666666,\"#ed7953\"],[0.7777777777777778,\"#fb9f3a\"],[0.8888888888888888,\"#fdca26\"],[1.0,\"#f0f921\"]]}],\"heatmapgl\":[{\"type\":\"heatmapgl\",\"colorbar\":{\"outlinewidth\":0,\"ticks\":\"\"},\"colorscale\":[[0.0,\"#0d0887\"],[0.1111111111111111,\"#46039f\"],[0.2222222222222222,\"#7201a8\"],[0.3333333333333333,\"#9c179e\"],[0.4444444444444444,\"#bd3786\"],[0.5555555555555556,\"#d8576b\"],[0.6666666666666666,\"#ed7953\"],[0.7777777777777778,\"#fb9f3a\"],[0.8888888888888888,\"#fdca26\"],[1.0,\"#f0f921\"]]}],\"contourcarpet\":[{\"type\":\"contourcarpet\",\"colorbar\":{\"outlinewidth\":0,\"ticks\":\"\"}}],\"contour\":[{\"type\":\"contour\",\"colorbar\":{\"outlinewidth\":0,\"ticks\":\"\"},\"colorscale\":[[0.0,\"#0d0887\"],[0.1111111111111111,\"#46039f\"],[0.2222222222222222,\"#7201a8\"],[0.3333333333333333,\"#9c179e\"],[0.4444444444444444,\"#bd3786\"],[0.5555555555555556,\"#d8576b\"],[0.6666666666666666,\"#ed7953\"],[0.7777777777777778,\"#fb9f3a\"],[0.8888888888888888,\"#fdca26\"],[1.0,\"#f0f921\"]]}],\"surface\":[{\"type\":\"surface\",\"colorbar\":{\"outlinewidth\":0,\"ticks\":\"\"},\"colorscale\":[[0.0,\"#0d0887\"],[0.1111111111111111,\"#46039f\"],[0.2222222222222222,\"#7201a8\"],[0.3333333333333333,\"#9c179e\"],[0.4444444444444444,\"#bd3786\"],[0.5555555555555556,\"#d8576b\"],[0.6666666666666666,\"#ed7953\"],[0.7777777777777778,\"#fb9f3a\"],[0.8888888888888888,\"#fdca26\"],[1.0,\"#f0f921\"]]}],\"mesh3d\":[{\"type\":\"mesh3d\",\"colorbar\":{\"outlinewidth\":0,\"ticks\":\"\"}}],\"scatter\":[{\"fillpattern\":{\"fillmode\":\"overlay\",\"size\":10,\"solidity\":0.2},\"type\":\"scatter\"}],\"parcoords\":[{\"type\":\"parcoords\",\"line\":{\"colorbar\":{\"outlinewidth\":0,\"ticks\":\"\"}}}],\"scatterpolargl\":[{\"type\":\"scatterpolargl\",\"marker\":{\"colorbar\":{\"outlinewidth\":0,\"ticks\":\"\"}}}],\"bar\":[{\"error_x\":{\"color\":\"#2a3f5f\"},\"error_y\":{\"color\":\"#2a3f5f\"},\"marker\":{\"line\":{\"color\":\"#E5ECF6\",\"width\":0.5},\"pattern\":{\"fillmode\":\"overlay\",\"size\":10,\"solidity\":0.2}},\"type\":\"bar\"}],\"scattergeo\":[{\"type\":\"scattergeo\",\"marker\":{\"colorbar\":{\"outlinewidth\":0,\"ticks\":\"\"}}}],\"scatterpolar\":[{\"type\":\"scatterpolar\",\"marker\":{\"colorbar\":{\"outlinewidth\":0,\"ticks\":\"\"}}}],\"histogram\":[{\"marker\":{\"pattern\":{\"fillmode\":\"overlay\",\"size\":10,\"solidity\":0.2}},\"type\":\"histogram\"}],\"scattergl\":[{\"type\":\"scattergl\",\"marker\":{\"colorbar\":{\"outlinewidth\":0,\"ticks\":\"\"}}}],\"scatter3d\":[{\"type\":\"scatter3d\",\"line\":{\"colorbar\":{\"outlinewidth\":0,\"ticks\":\"\"}},\"marker\":{\"colorbar\":{\"outlinewidth\":0,\"ticks\":\"\"}}}],\"scattermapbox\":[{\"type\":\"scattermapbox\",\"marker\":{\"colorbar\":{\"outlinewidth\":0,\"ticks\":\"\"}}}],\"scatterternary\":[{\"type\":\"scatterternary\",\"marker\":{\"colorbar\":{\"outlinewidth\":0,\"ticks\":\"\"}}}],\"scattercarpet\":[{\"type\":\"scattercarpet\",\"marker\":{\"colorbar\":{\"outlinewidth\":0,\"ticks\":\"\"}}}],\"carpet\":[{\"aaxis\":{\"endlinecolor\":\"#2a3f5f\",\"gridcolor\":\"white\",\"linecolor\":\"white\",\"minorgridcolor\":\"white\",\"startlinecolor\":\"#2a3f5f\"},\"baxis\":{\"endlinecolor\":\"#2a3f5f\",\"gridcolor\":\"white\",\"linecolor\":\"white\",\"minorgridcolor\":\"white\",\"startlinecolor\":\"#2a3f5f\"},\"type\":\"carpet\"}],\"table\":[{\"cells\":{\"fill\":{\"color\":\"#EBF0F8\"},\"line\":{\"color\":\"white\"}},\"header\":{\"fill\":{\"color\":\"#C8D4E3\"},\"line\":{\"color\":\"white\"}},\"type\":\"table\"}],\"barpolar\":[{\"marker\":{\"line\":{\"color\":\"#E5ECF6\",\"width\":0.5},\"pattern\":{\"fillmode\":\"overlay\",\"size\":10,\"solidity\":0.2}},\"type\":\"barpolar\"}],\"pie\":[{\"automargin\":true,\"type\":\"pie\"}]},\"layout\":{\"autotypenumbers\":\"strict\",\"colorway\":[\"#636efa\",\"#EF553B\",\"#00cc96\",\"#ab63fa\",\"#FFA15A\",\"#19d3f3\",\"#FF6692\",\"#B6E880\",\"#FF97FF\",\"#FECB52\"],\"font\":{\"color\":\"#2a3f5f\"},\"hovermode\":\"closest\",\"hoverlabel\":{\"align\":\"left\"},\"paper_bgcolor\":\"white\",\"plot_bgcolor\":\"#E5ECF6\",\"polar\":{\"bgcolor\":\"#E5ECF6\",\"angularaxis\":{\"gridcolor\":\"white\",\"linecolor\":\"white\",\"ticks\":\"\"},\"radialaxis\":{\"gridcolor\":\"white\",\"linecolor\":\"white\",\"ticks\":\"\"}},\"ternary\":{\"bgcolor\":\"#E5ECF6\",\"aaxis\":{\"gridcolor\":\"white\",\"linecolor\":\"white\",\"ticks\":\"\"},\"baxis\":{\"gridcolor\":\"white\",\"linecolor\":\"white\",\"ticks\":\"\"},\"caxis\":{\"gridcolor\":\"white\",\"linecolor\":\"white\",\"ticks\":\"\"}},\"coloraxis\":{\"colorbar\":{\"outlinewidth\":0,\"ticks\":\"\"}},\"colorscale\":{\"sequential\":[[0.0,\"#0d0887\"],[0.1111111111111111,\"#46039f\"],[0.2222222222222222,\"#7201a8\"],[0.3333333333333333,\"#9c179e\"],[0.4444444444444444,\"#bd3786\"],[0.5555555555555556,\"#d8576b\"],[0.6666666666666666,\"#ed7953\"],[0.7777777777777778,\"#fb9f3a\"],[0.8888888888888888,\"#fdca26\"],[1.0,\"#f0f921\"]],\"sequentialminus\":[[0.0,\"#0d0887\"],[0.1111111111111111,\"#46039f\"],[0.2222222222222222,\"#7201a8\"],[0.3333333333333333,\"#9c179e\"],[0.4444444444444444,\"#bd3786\"],[0.5555555555555556,\"#d8576b\"],[0.6666666666666666,\"#ed7953\"],[0.7777777777777778,\"#fb9f3a\"],[0.8888888888888888,\"#fdca26\"],[1.0,\"#f0f921\"]],\"diverging\":[[0,\"#8e0152\"],[0.1,\"#c51b7d\"],[0.2,\"#de77ae\"],[0.3,\"#f1b6da\"],[0.4,\"#fde0ef\"],[0.5,\"#f7f7f7\"],[0.6,\"#e6f5d0\"],[0.7,\"#b8e186\"],[0.8,\"#7fbc41\"],[0.9,\"#4d9221\"],[1,\"#276419\"]]},\"xaxis\":{\"gridcolor\":\"white\",\"linecolor\":\"white\",\"ticks\":\"\",\"title\":{\"standoff\":15},\"zerolinecolor\":\"white\",\"automargin\":true,\"zerolinewidth\":2},\"yaxis\":{\"gridcolor\":\"white\",\"linecolor\":\"white\",\"ticks\":\"\",\"title\":{\"standoff\":15},\"zerolinecolor\":\"white\",\"automargin\":true,\"zerolinewidth\":2},\"scene\":{\"xaxis\":{\"backgroundcolor\":\"#E5ECF6\",\"gridcolor\":\"white\",\"linecolor\":\"white\",\"showbackground\":true,\"ticks\":\"\",\"zerolinecolor\":\"white\",\"gridwidth\":2},\"yaxis\":{\"backgroundcolor\":\"#E5ECF6\",\"gridcolor\":\"white\",\"linecolor\":\"white\",\"showbackground\":true,\"ticks\":\"\",\"zerolinecolor\":\"white\",\"gridwidth\":2},\"zaxis\":{\"backgroundcolor\":\"#E5ECF6\",\"gridcolor\":\"white\",\"linecolor\":\"white\",\"showbackground\":true,\"ticks\":\"\",\"zerolinecolor\":\"white\",\"gridwidth\":2}},\"shapedefaults\":{\"line\":{\"color\":\"#2a3f5f\"}},\"annotationdefaults\":{\"arrowcolor\":\"#2a3f5f\",\"arrowhead\":0,\"arrowwidth\":1},\"geo\":{\"bgcolor\":\"white\",\"landcolor\":\"#E5ECF6\",\"subunitcolor\":\"white\",\"showland\":true,\"showlakes\":true,\"lakecolor\":\"white\"},\"title\":{\"x\":0.05},\"mapbox\":{\"style\":\"light\"}}},\"xaxis\":{\"anchor\":\"y\",\"domain\":[0.0,1.0],\"title\":{\"text\":\"product_category\"}},\"yaxis\":{\"anchor\":\"x\",\"domain\":[0.0,1.0],\"title\":{\"text\":\"counts\"}},\"legend\":{\"title\":{\"text\":\"sentiment\"},\"tracegroupgap\":0},\"margin\":{\"t\":60},\"barmode\":\"group\"},                        {\"responsive\": true}                    ).then(function(){\n",
       "                            \n",
       "var gd = document.getElementById('36938430-261e-41b1-a769-278be5a3ef55');\n",
       "var x = new MutationObserver(function (mutations, observer) {{\n",
       "        var display = window.getComputedStyle(gd).display;\n",
       "        if (!display || display === 'none') {{\n",
       "            console.log([gd, 'removed!']);\n",
       "            Plotly.purge(gd);\n",
       "            observer.disconnect();\n",
       "        }}\n",
       "}});\n",
       "\n",
       "// Listen for the removal of the full notebook cells\n",
       "var notebookContainer = gd.closest('#notebook-container');\n",
       "if (notebookContainer) {{\n",
       "    x.observe(notebookContainer, {childList: true});\n",
       "}}\n",
       "\n",
       "// Listen for the clearing of the current output cell\n",
       "var outputEl = gd.closest('.output');\n",
       "if (outputEl) {{\n",
       "    x.observe(outputEl, {childList: true});\n",
       "}}\n",
       "\n",
       "                        })                };                });            </script>        </div>"
      ]
     },
     "metadata": {},
     "output_type": "display_data"
    }
   ],
   "source": [
    "px.bar(df, x='product_category', y='counts', color='sentiment', barmode='group')"
   ]
  },
  {
   "cell_type": "code",
   "execution_count": null,
   "id": "cf5284bc",
   "metadata": {},
   "outputs": [],
   "source": []
  }
 ],
 "metadata": {
  "kernelspec": {
   "display_name": "Python 3 (ipykernel)",
   "language": "python",
   "name": "python3"
  },
  "language_info": {
   "codemirror_mode": {
    "name": "ipython",
    "version": 3
   },
   "file_extension": ".py",
   "mimetype": "text/x-python",
   "name": "python",
   "nbconvert_exporter": "python",
   "pygments_lexer": "ipython3",
   "version": "3.10.6"
  }
 },
 "nbformat": 4,
 "nbformat_minor": 5
}
